{
 "cells": [
  {
   "cell_type": "markdown",
   "metadata": {},
   "source": [
    "## Model Prediction on Unbalanced Dataset\n",
    "\n",
    "The classification algorithms MultinomialNB (Multinomial Naive Bayes Classification) and the Linear Support Vector Classification (LinearSVC) will be used on movies data."
   ]
  },
  {
   "cell_type": "markdown",
   "metadata": {},
   "source": [
    "## 1. Libraries and loading preprocessed data"
   ]
  },
  {
   "cell_type": "code",
   "execution_count": 1,
   "metadata": {},
   "outputs": [],
   "source": [
    "import pandas as pd\n",
    "import numpy as np\n",
    "import matplotlib.pyplot as plt\n",
    "%matplotlib inline\n",
    "import seaborn as sns\n",
    "import re\n",
    "import warnings\n",
    "\n",
    "\n",
    "import pickle \n",
    "#import mglearn\n",
    "import time\n",
    "\n",
    "\n",
    "from nltk.tokenize import TweetTokenizer # doesn't split at apostrophes\n",
    "import nltk\n",
    "from nltk import Text\n",
    "from nltk.tokenize import regexp_tokenize\n",
    "from nltk.tokenize import word_tokenize  \n",
    "from nltk.tokenize import sent_tokenize \n",
    "from nltk.corpus import stopwords\n",
    "from nltk.stem import WordNetLemmatizer\n",
    "from nltk.stem import PorterStemmer\n",
    "\n",
    "\n",
    "from sklearn.feature_extraction.text import CountVectorizer\n",
    "from sklearn.feature_extraction.text import TfidfVectorizer\n",
    "from sklearn.linear_model import LogisticRegression \n",
    "from sklearn.naive_bayes import MultinomialNB\n",
    "from sklearn.multiclass import OneVsRestClassifier\n",
    "from sklearn.linear_model import SGDClassifier\n",
    "from sklearn.dummy import DummyClassifier\n",
    "from sklearn.linear_model import Perceptron\n",
    "from sklearn.linear_model import PassiveAggressiveClassifier\n",
    "\n",
    "from sklearn.neural_network import MLPClassifier\n",
    "\n",
    "\n",
    "\n",
    "from sklearn.model_selection import cross_val_score\n",
    "from sklearn.model_selection import train_test_split\n",
    "from sklearn import metrics\n",
    "from sklearn.metrics import classification_report\n",
    "from sklearn.metrics import confusion_matrix\n",
    "from sklearn.model_selection import GridSearchCV\n",
    "from sklearn.pipeline import make_pipeline\n",
    "\n",
    "from sklearn.metrics import accuracy_score\n",
    "from sklearn.metrics import hamming_loss\n",
    "from sklearn.metrics import jaccard_score\n",
    "from sklearn.metrics import cohen_kappa_score\n",
    "\n",
    "from sklearn.svm import LinearSVC"
   ]
  },
  {
   "cell_type": "code",
   "execution_count": 2,
   "metadata": {},
   "outputs": [
    {
     "name": "stdout",
     "output_type": "stream",
     "text": [
      "There are 34886 rows and 11 columns\n"
     ]
    }
   ],
   "source": [
    "movies = pd.read_csv('movies_preprocessed.csv', delimiter=',')\n",
    "# movies.dataframeName = 'wiki_movie_plots_deduped.csv'\n",
    "movies = movies.drop(columns=\"id\")\n",
    "nRow, nCol = movies.shape\n",
    "print(f'There are {nRow} rows and {nCol} columns')"
   ]
  },
  {
   "cell_type": "code",
   "execution_count": 3,
   "metadata": {},
   "outputs": [
    {
     "data": {
      "text/html": [
       "<div>\n",
       "<style scoped>\n",
       "    .dataframe tbody tr th:only-of-type {\n",
       "        vertical-align: middle;\n",
       "    }\n",
       "\n",
       "    .dataframe tbody tr th {\n",
       "        vertical-align: top;\n",
       "    }\n",
       "\n",
       "    .dataframe thead th {\n",
       "        text-align: right;\n",
       "    }\n",
       "</style>\n",
       "<table border=\"1\" class=\"dataframe\">\n",
       "  <thead>\n",
       "    <tr style=\"text-align: right;\">\n",
       "      <th></th>\n",
       "      <th>PlotClean</th>\n",
       "      <th>TitleClean</th>\n",
       "      <th>MainGenresCount</th>\n",
       "      <th>action</th>\n",
       "      <th>animation</th>\n",
       "      <th>comedy</th>\n",
       "      <th>crime</th>\n",
       "      <th>drama</th>\n",
       "      <th>musical</th>\n",
       "      <th>romance</th>\n",
       "      <th>thriller</th>\n",
       "    </tr>\n",
       "  </thead>\n",
       "  <tbody>\n",
       "    <tr>\n",
       "      <th>0</th>\n",
       "      <td>a bartender is working at a saloon  serving dr...</td>\n",
       "      <td>kansas saloon smashers</td>\n",
       "      <td>0</td>\n",
       "      <td>0</td>\n",
       "      <td>0</td>\n",
       "      <td>0</td>\n",
       "      <td>0</td>\n",
       "      <td>0</td>\n",
       "      <td>0</td>\n",
       "      <td>0</td>\n",
       "      <td>0</td>\n",
       "    </tr>\n",
       "    <tr>\n",
       "      <th>1</th>\n",
       "      <td>the moon  painted with a smiling face hangs ov...</td>\n",
       "      <td>love by the light of the moon</td>\n",
       "      <td>0</td>\n",
       "      <td>0</td>\n",
       "      <td>0</td>\n",
       "      <td>0</td>\n",
       "      <td>0</td>\n",
       "      <td>0</td>\n",
       "      <td>0</td>\n",
       "      <td>0</td>\n",
       "      <td>0</td>\n",
       "    </tr>\n",
       "    <tr>\n",
       "      <th>2</th>\n",
       "      <td>the film  just over a minute long  is composed...</td>\n",
       "      <td>the martyred presidents</td>\n",
       "      <td>0</td>\n",
       "      <td>0</td>\n",
       "      <td>0</td>\n",
       "      <td>0</td>\n",
       "      <td>0</td>\n",
       "      <td>0</td>\n",
       "      <td>0</td>\n",
       "      <td>0</td>\n",
       "      <td>0</td>\n",
       "    </tr>\n",
       "    <tr>\n",
       "      <th>3</th>\n",
       "      <td>lasting just 61 seconds and consisting of two ...</td>\n",
       "      <td>terrible teddy  the grizzly king</td>\n",
       "      <td>0</td>\n",
       "      <td>0</td>\n",
       "      <td>0</td>\n",
       "      <td>0</td>\n",
       "      <td>0</td>\n",
       "      <td>0</td>\n",
       "      <td>0</td>\n",
       "      <td>0</td>\n",
       "      <td>0</td>\n",
       "    </tr>\n",
       "    <tr>\n",
       "      <th>4</th>\n",
       "      <td>the earliest known adaptation of the classic f...</td>\n",
       "      <td>jack and the beanstalk</td>\n",
       "      <td>0</td>\n",
       "      <td>0</td>\n",
       "      <td>0</td>\n",
       "      <td>0</td>\n",
       "      <td>0</td>\n",
       "      <td>0</td>\n",
       "      <td>0</td>\n",
       "      <td>0</td>\n",
       "      <td>0</td>\n",
       "    </tr>\n",
       "  </tbody>\n",
       "</table>\n",
       "</div>"
      ],
      "text/plain": [
       "                                           PlotClean  \\\n",
       "0  a bartender is working at a saloon  serving dr...   \n",
       "1  the moon  painted with a smiling face hangs ov...   \n",
       "2  the film  just over a minute long  is composed...   \n",
       "3  lasting just 61 seconds and consisting of two ...   \n",
       "4  the earliest known adaptation of the classic f...   \n",
       "\n",
       "                         TitleClean  MainGenresCount  action  animation  \\\n",
       "0            kansas saloon smashers                0       0          0   \n",
       "1     love by the light of the moon                0       0          0   \n",
       "2           the martyred presidents                0       0          0   \n",
       "3  terrible teddy  the grizzly king                0       0          0   \n",
       "4            jack and the beanstalk                0       0          0   \n",
       "\n",
       "   comedy  crime  drama  musical  romance  thriller  \n",
       "0       0      0      0        0        0         0  \n",
       "1       0      0      0        0        0         0  \n",
       "2       0      0      0        0        0         0  \n",
       "3       0      0      0        0        0         0  \n",
       "4       0      0      0        0        0         0  "
      ]
     },
     "execution_count": 3,
     "metadata": {},
     "output_type": "execute_result"
    }
   ],
   "source": [
    "movies.head()"
   ]
  },
  {
   "cell_type": "markdown",
   "metadata": {},
   "source": [
    "## 2. Feature Engineering"
   ]
  },
  {
   "cell_type": "markdown",
   "metadata": {},
   "source": [
    "**Train and Test split**"
   ]
  },
  {
   "cell_type": "code",
   "execution_count": 4,
   "metadata": {},
   "outputs": [],
   "source": [
    "# the train and the test data set will be build when there is at least one genre for a movie\n",
    "MoviesTrain, MoviesTest = train_test_split(movies[movies.MainGenresCount!=0], random_state=42, test_size=0.20, shuffle=True)"
   ]
  },
  {
   "cell_type": "code",
   "execution_count": 5,
   "metadata": {},
   "outputs": [
    {
     "data": {
      "text/html": [
       "<div>\n",
       "<style scoped>\n",
       "    .dataframe tbody tr th:only-of-type {\n",
       "        vertical-align: middle;\n",
       "    }\n",
       "\n",
       "    .dataframe tbody tr th {\n",
       "        vertical-align: top;\n",
       "    }\n",
       "\n",
       "    .dataframe thead th {\n",
       "        text-align: right;\n",
       "    }\n",
       "</style>\n",
       "<table border=\"1\" class=\"dataframe\">\n",
       "  <thead>\n",
       "    <tr style=\"text-align: right;\">\n",
       "      <th></th>\n",
       "      <th>PlotClean</th>\n",
       "      <th>TitleClean</th>\n",
       "      <th>MainGenresCount</th>\n",
       "      <th>action</th>\n",
       "      <th>animation</th>\n",
       "      <th>comedy</th>\n",
       "      <th>crime</th>\n",
       "      <th>drama</th>\n",
       "      <th>musical</th>\n",
       "      <th>romance</th>\n",
       "      <th>thriller</th>\n",
       "    </tr>\n",
       "  </thead>\n",
       "  <tbody>\n",
       "    <tr>\n",
       "      <th>30733</th>\n",
       "      <td>the story is told through the protagonist muru...</td>\n",
       "      <td>veyil</td>\n",
       "      <td>1</td>\n",
       "      <td>0</td>\n",
       "      <td>0</td>\n",
       "      <td>0</td>\n",
       "      <td>0</td>\n",
       "      <td>1</td>\n",
       "      <td>0</td>\n",
       "      <td>0</td>\n",
       "      <td>0</td>\n",
       "    </tr>\n",
       "    <tr>\n",
       "      <th>1040</th>\n",
       "      <td>eddie haskins  lease   a wisecracking young ma...</td>\n",
       "      <td>troopers three</td>\n",
       "      <td>1</td>\n",
       "      <td>0</td>\n",
       "      <td>0</td>\n",
       "      <td>1</td>\n",
       "      <td>0</td>\n",
       "      <td>0</td>\n",
       "      <td>0</td>\n",
       "      <td>0</td>\n",
       "      <td>0</td>\n",
       "    </tr>\n",
       "    <tr>\n",
       "      <th>16958</th>\n",
       "      <td>five days after the assault on the abnegation ...</td>\n",
       "      <td>the divergent series: insurgent</td>\n",
       "      <td>1</td>\n",
       "      <td>1</td>\n",
       "      <td>0</td>\n",
       "      <td>0</td>\n",
       "      <td>0</td>\n",
       "      <td>0</td>\n",
       "      <td>0</td>\n",
       "      <td>0</td>\n",
       "      <td>0</td>\n",
       "    </tr>\n",
       "    <tr>\n",
       "      <th>5844</th>\n",
       "      <td>tom is busy designing a mousetrap in the attic...</td>\n",
       "      <td>designs on jerry</td>\n",
       "      <td>1</td>\n",
       "      <td>0</td>\n",
       "      <td>1</td>\n",
       "      <td>0</td>\n",
       "      <td>0</td>\n",
       "      <td>0</td>\n",
       "      <td>0</td>\n",
       "      <td>0</td>\n",
       "      <td>0</td>\n",
       "    </tr>\n",
       "    <tr>\n",
       "      <th>2040</th>\n",
       "      <td>alan colby  heir to a vast fortune  reappears ...</td>\n",
       "      <td>charlie chan  secret</td>\n",
       "      <td>1</td>\n",
       "      <td>0</td>\n",
       "      <td>0</td>\n",
       "      <td>1</td>\n",
       "      <td>0</td>\n",
       "      <td>0</td>\n",
       "      <td>0</td>\n",
       "      <td>0</td>\n",
       "      <td>0</td>\n",
       "    </tr>\n",
       "  </tbody>\n",
       "</table>\n",
       "</div>"
      ],
      "text/plain": [
       "                                               PlotClean  \\\n",
       "30733  the story is told through the protagonist muru...   \n",
       "1040   eddie haskins  lease   a wisecracking young ma...   \n",
       "16958  five days after the assault on the abnegation ...   \n",
       "5844   tom is busy designing a mousetrap in the attic...   \n",
       "2040   alan colby  heir to a vast fortune  reappears ...   \n",
       "\n",
       "                            TitleClean  MainGenresCount  action  animation  \\\n",
       "30733                            veyil                1       0          0   \n",
       "1040                    troopers three                1       0          0   \n",
       "16958  the divergent series: insurgent                1       1          0   \n",
       "5844                  designs on jerry                1       0          1   \n",
       "2040              charlie chan  secret                1       0          0   \n",
       "\n",
       "       comedy  crime  drama  musical  romance  thriller  \n",
       "30733       0      0      1        0        0         0  \n",
       "1040        1      0      0        0        0         0  \n",
       "16958       0      0      0        0        0         0  \n",
       "5844        0      0      0        0        0         0  \n",
       "2040        1      0      0        0        0         0  "
      ]
     },
     "execution_count": 5,
     "metadata": {},
     "output_type": "execute_result"
    }
   ],
   "source": [
    "MoviesTrain.head()"
   ]
  },
  {
   "cell_type": "markdown",
   "metadata": {},
   "source": [
    "**Features**"
   ]
  },
  {
   "cell_type": "code",
   "execution_count": 6,
   "metadata": {},
   "outputs": [],
   "source": [
    "# definition the algorithm for feature extraction\n",
    "tfidf = TfidfVectorizer(stop_words ='english', smooth_idf=False, sublinear_tf=False, norm=None, analyzer='word')"
   ]
  },
  {
   "cell_type": "code",
   "execution_count": 7,
   "metadata": {},
   "outputs": [],
   "source": [
    "# building the features\n",
    "x_train = tfidf.fit_transform(MoviesTrain.PlotClean) \n",
    "x_test  = tfidf.transform(MoviesTest.PlotClean)\n",
    "### for test data, the feature extraction will be done through the function transform()\n",
    "### to make sure there is no features dimensionality mismatch"
   ]
  },
  {
   "cell_type": "code",
   "execution_count": 8,
   "metadata": {},
   "outputs": [
    {
     "name": "stdout",
     "output_type": "stream",
     "text": [
      "nrow of the MoviesTrain =21065\n",
      "nrow of the MoviesTest =5267\n"
     ]
    }
   ],
   "source": [
    "print('nrow of the MoviesTrain ={}'. format(MoviesTrain.shape[0]))\n",
    "print('nrow of the MoviesTest ={}'. format(MoviesTest.shape[0]))"
   ]
  },
  {
   "cell_type": "markdown",
   "metadata": {},
   "source": [
    "**Building the classes**"
   ]
  },
  {
   "cell_type": "code",
   "execution_count": 9,
   "metadata": {},
   "outputs": [],
   "source": [
    "# building the classes\n",
    "y_train = MoviesTrain[MoviesTrain.columns[3:]]\n",
    "y_test = MoviesTest[MoviesTest.columns[3:]]"
   ]
  },
  {
   "cell_type": "code",
   "execution_count": 10,
   "metadata": {},
   "outputs": [
    {
     "name": "stdout",
     "output_type": "stream",
     "text": [
      "number of y_train classes 8\n",
      "number of y_test classes 8\n"
     ]
    }
   ],
   "source": [
    "print('number of y_train classes',len(y_train.columns))\n",
    "print('number of y_test classes',len(y_test.columns))"
   ]
  },
  {
   "cell_type": "markdown",
   "metadata": {},
   "source": [
    "## 3. Genre Classification Result"
   ]
  },
  {
   "cell_type": "markdown",
   "metadata": {},
   "source": [
    "### 3.1 Multinomial Naive Bayes Classification for main genres"
   ]
  },
  {
   "cell_type": "code",
   "execution_count": 11,
   "metadata": {},
   "outputs": [],
   "source": [
    "mainGenres = ['drama','comedy','action','thriller','romance','crime','musical','animation']"
   ]
  },
  {
   "cell_type": "code",
   "execution_count": 22,
   "metadata": {},
   "outputs": [],
   "source": [
    "accuracy_multinomialNB=pd.DataFrame(columns=['Genre', 'precision_multinomialNB','recall_multinomialNB'])\n",
    "accuracy_multinomialNB.head()\n",
    "multinomialNB=OneVsRestClassifier(MultinomialNB(alpha=10,fit_prior=True, class_prior=None))"
   ]
  },
  {
   "cell_type": "code",
   "execution_count": 23,
   "metadata": {},
   "outputs": [
    {
     "data": {
      "text/html": [
       "<div>\n",
       "<style scoped>\n",
       "    .dataframe tbody tr th:only-of-type {\n",
       "        vertical-align: middle;\n",
       "    }\n",
       "\n",
       "    .dataframe tbody tr th {\n",
       "        vertical-align: top;\n",
       "    }\n",
       "\n",
       "    .dataframe thead th {\n",
       "        text-align: right;\n",
       "    }\n",
       "</style>\n",
       "<table border=\"1\" class=\"dataframe\">\n",
       "  <thead>\n",
       "    <tr style=\"text-align: right;\">\n",
       "      <th></th>\n",
       "      <th>Genre</th>\n",
       "      <th>precision_multinomialNB</th>\n",
       "      <th>recall_multinomialNB</th>\n",
       "    </tr>\n",
       "  </thead>\n",
       "  <tbody>\n",
       "    <tr>\n",
       "      <th>0</th>\n",
       "      <td>drama</td>\n",
       "      <td>0.665409</td>\n",
       "      <td>0.558066</td>\n",
       "    </tr>\n",
       "    <tr>\n",
       "      <th>1</th>\n",
       "      <td>comedy</td>\n",
       "      <td>0.649966</td>\n",
       "      <td>0.544835</td>\n",
       "    </tr>\n",
       "    <tr>\n",
       "      <th>2</th>\n",
       "      <td>action</td>\n",
       "      <td>0.6473</td>\n",
       "      <td>0.628776</td>\n",
       "    </tr>\n",
       "    <tr>\n",
       "      <th>3</th>\n",
       "      <td>thriller</td>\n",
       "      <td>0.488435</td>\n",
       "      <td>0.5781</td>\n",
       "    </tr>\n",
       "    <tr>\n",
       "      <th>4</th>\n",
       "      <td>romance</td>\n",
       "      <td>0.501027</td>\n",
       "      <td>0.297199</td>\n",
       "    </tr>\n",
       "    <tr>\n",
       "      <th>5</th>\n",
       "      <td>crime</td>\n",
       "      <td>0.1875</td>\n",
       "      <td>0.394737</td>\n",
       "    </tr>\n",
       "    <tr>\n",
       "      <th>6</th>\n",
       "      <td>musical</td>\n",
       "      <td>0.0735294</td>\n",
       "      <td>0.227273</td>\n",
       "    </tr>\n",
       "    <tr>\n",
       "      <th>7</th>\n",
       "      <td>animation</td>\n",
       "      <td>0.546448</td>\n",
       "      <td>0.653595</td>\n",
       "    </tr>\n",
       "  </tbody>\n",
       "</table>\n",
       "</div>"
      ],
      "text/plain": [
       "       Genre precision_multinomialNB recall_multinomialNB\n",
       "0      drama                0.665409             0.558066\n",
       "1     comedy                0.649966             0.544835\n",
       "2     action                  0.6473             0.628776\n",
       "3   thriller                0.488435               0.5781\n",
       "4    romance                0.501027             0.297199\n",
       "5      crime                  0.1875             0.394737\n",
       "6    musical               0.0735294             0.227273\n",
       "7  animation                0.546448             0.653595"
      ]
     },
     "execution_count": 23,
     "metadata": {},
     "output_type": "execute_result"
    }
   ],
   "source": [
    "i=0\n",
    "for genre in mainGenres:\n",
    "    multinomialNB.fit(x_train, y_train[genre])\n",
    "    prediction = multinomialNB.predict(x_test)\n",
    "    accuracy_multinomialNB.loc[i,'Genre'] = genre\n",
    "#     accuracy_multinomialNB.loc[i,'accuracy_multinomialNB'] = accuracy_score(y_test[genre], prediction)\n",
    "    TP = 0\n",
    "    FN = 0\n",
    "    FP = 0\n",
    "    for j in range(len(y_test)):\n",
    "        TP += 1 if y_test[genre].iloc[j]==1 and prediction[j]==1 else 0\n",
    "        FN += 1 if y_test[genre].iloc[j]==0 and prediction[j]==1 else 0\n",
    "        FP += 1 if y_test[genre].iloc[j]==1 and prediction[j]==0 else 0\n",
    "    accuracy_multinomialNB.loc[i,'precision_multinomialNB'] = TP/(TP+FP)\n",
    "    accuracy_multinomialNB.loc[i,'recall_multinomialNB'] = TP/(TP+FN)\n",
    "    i += 1\n",
    "    \n",
    "\n",
    "    \n",
    "accuracy_multinomialNB"
   ]
  },
  {
   "cell_type": "markdown",
   "metadata": {},
   "source": [
    "### 3.2 Logistic Regression for main genres"
   ]
  },
  {
   "cell_type": "code",
   "execution_count": 24,
   "metadata": {},
   "outputs": [
    {
     "data": {
      "text/html": [
       "<div>\n",
       "<style scoped>\n",
       "    .dataframe tbody tr th:only-of-type {\n",
       "        vertical-align: middle;\n",
       "    }\n",
       "\n",
       "    .dataframe tbody tr th {\n",
       "        vertical-align: top;\n",
       "    }\n",
       "\n",
       "    .dataframe thead th {\n",
       "        text-align: right;\n",
       "    }\n",
       "</style>\n",
       "<table border=\"1\" class=\"dataframe\">\n",
       "  <thead>\n",
       "    <tr style=\"text-align: right;\">\n",
       "      <th></th>\n",
       "      <th>Genre</th>\n",
       "      <th>precision_LR</th>\n",
       "      <th>recall_LR</th>\n",
       "    </tr>\n",
       "  </thead>\n",
       "  <tbody>\n",
       "  </tbody>\n",
       "</table>\n",
       "</div>"
      ],
      "text/plain": [
       "Empty DataFrame\n",
       "Columns: [Genre, precision_LR, recall_LR]\n",
       "Index: []"
      ]
     },
     "execution_count": 24,
     "metadata": {},
     "output_type": "execute_result"
    }
   ],
   "source": [
    "LR=OneVsRestClassifier(LogisticRegression(max_iter=12,C=0.9,n_jobs=-1), n_jobs=1)\n",
    "accuracy_LR=pd.DataFrame(columns=['Genre', 'precision_LR','recall_LR'])\n",
    "accuracy_LR.head()"
   ]
  },
  {
   "cell_type": "code",
   "execution_count": 18,
   "metadata": {},
   "outputs": [],
   "source": [
    "import warnings\n",
    "warnings.filterwarnings('ignore')"
   ]
  },
  {
   "cell_type": "code",
   "execution_count": 25,
   "metadata": {},
   "outputs": [
    {
     "data": {
      "text/html": [
       "<div>\n",
       "<style scoped>\n",
       "    .dataframe tbody tr th:only-of-type {\n",
       "        vertical-align: middle;\n",
       "    }\n",
       "\n",
       "    .dataframe tbody tr th {\n",
       "        vertical-align: top;\n",
       "    }\n",
       "\n",
       "    .dataframe thead th {\n",
       "        text-align: right;\n",
       "    }\n",
       "</style>\n",
       "<table border=\"1\" class=\"dataframe\">\n",
       "  <thead>\n",
       "    <tr style=\"text-align: right;\">\n",
       "      <th></th>\n",
       "      <th>Genre</th>\n",
       "      <th>precision_LR</th>\n",
       "      <th>recall_LR</th>\n",
       "    </tr>\n",
       "  </thead>\n",
       "  <tbody>\n",
       "    <tr>\n",
       "      <th>0</th>\n",
       "      <td>drama</td>\n",
       "      <td>0.610453</td>\n",
       "      <td>0.591028</td>\n",
       "    </tr>\n",
       "    <tr>\n",
       "      <th>1</th>\n",
       "      <td>comedy</td>\n",
       "      <td>0.548409</td>\n",
       "      <td>0.660147</td>\n",
       "    </tr>\n",
       "    <tr>\n",
       "      <th>2</th>\n",
       "      <td>action</td>\n",
       "      <td>0.599836</td>\n",
       "      <td>0.698095</td>\n",
       "    </tr>\n",
       "    <tr>\n",
       "      <th>3</th>\n",
       "      <td>thriller</td>\n",
       "      <td>0.472109</td>\n",
       "      <td>0.709611</td>\n",
       "    </tr>\n",
       "    <tr>\n",
       "      <th>4</th>\n",
       "      <td>romance</td>\n",
       "      <td>0.351129</td>\n",
       "      <td>0.446475</td>\n",
       "    </tr>\n",
       "    <tr>\n",
       "      <th>5</th>\n",
       "      <td>crime</td>\n",
       "      <td>0.2875</td>\n",
       "      <td>0.398268</td>\n",
       "    </tr>\n",
       "    <tr>\n",
       "      <th>6</th>\n",
       "      <td>musical</td>\n",
       "      <td>0.294118</td>\n",
       "      <td>0.487805</td>\n",
       "    </tr>\n",
       "    <tr>\n",
       "      <th>7</th>\n",
       "      <td>animation</td>\n",
       "      <td>0.453552</td>\n",
       "      <td>0.721739</td>\n",
       "    </tr>\n",
       "  </tbody>\n",
       "</table>\n",
       "</div>"
      ],
      "text/plain": [
       "       Genre precision_LR recall_LR\n",
       "0      drama     0.610453  0.591028\n",
       "1     comedy     0.548409  0.660147\n",
       "2     action     0.599836  0.698095\n",
       "3   thriller     0.472109  0.709611\n",
       "4    romance     0.351129  0.446475\n",
       "5      crime       0.2875  0.398268\n",
       "6    musical     0.294118  0.487805\n",
       "7  animation     0.453552  0.721739"
      ]
     },
     "execution_count": 25,
     "metadata": {},
     "output_type": "execute_result"
    }
   ],
   "source": [
    "i = 0\n",
    "for genre in mainGenres:\n",
    "    LR.fit(x_train, y_train[genre])\n",
    "    prediction = LR.predict(x_test)\n",
    "    accuracy_LR.loc[i,'Genre'] = genre\n",
    "#     accuracy_LR.loc[i,'accuracy_LR'] = accuracy_score(y_test[genre], prediction)\n",
    "    TP = 0\n",
    "    FN = 0\n",
    "    FP = 0\n",
    "    for j in range(len(y_test)):\n",
    "        TP += 1 if y_test[genre].iloc[j]==1 and prediction[j]==1 else 0\n",
    "        FN += 1 if y_test[genre].iloc[j]==0 and prediction[j]==1 else 0\n",
    "        FP += 1 if y_test[genre].iloc[j]==1 and prediction[j]==0 else 0\n",
    "    accuracy_LR.loc[i,'precision_LR'] = TP/(TP+FP)\n",
    "    accuracy_LR.loc[i,'recall_LR'] = TP/(TP+FN)\n",
    "    i += 1\n",
    "accuracy_LR"
   ]
  },
  {
   "cell_type": "code",
   "execution_count": null,
   "metadata": {},
   "outputs": [],
   "source": []
  }
 ],
 "metadata": {
  "kernelspec": {
   "display_name": "Python 3",
   "language": "python",
   "name": "python3"
  },
  "language_info": {
   "codemirror_mode": {
    "name": "ipython",
    "version": 3
   },
   "file_extension": ".py",
   "mimetype": "text/x-python",
   "name": "python",
   "nbconvert_exporter": "python",
   "pygments_lexer": "ipython3",
   "version": "3.8.3"
  }
 },
 "nbformat": 4,
 "nbformat_minor": 4
}
