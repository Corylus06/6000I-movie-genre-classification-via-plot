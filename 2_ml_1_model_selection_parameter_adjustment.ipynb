{
 "cells": [
  {
   "cell_type": "markdown",
   "metadata": {},
   "source": [
    "## Model Prediction and Discussion\n",
    "\n",
    "* part 1: the classification algorithms MultinomialNB (Multinomial Naive Bayes Classification) and the Linear Support Vector Classification (LinearSVC) will be used on movies data.\n",
    "* part 2:  conclusion"
   ]
  },
  {
   "cell_type": "markdown",
   "metadata": {},
   "source": [
    "## 1. Libraries and loading preprocessed data"
   ]
  },
  {
   "cell_type": "code",
   "execution_count": 1,
   "metadata": {},
   "outputs": [],
   "source": [
    "import pandas as pd\n",
    "import numpy as np\n",
    "import matplotlib.pyplot as plt\n",
    "%matplotlib inline\n",
    "import seaborn as sns\n",
    "import re\n",
    "import warnings\n",
    "\n",
    "\n",
    "import pickle \n",
    "#import mglearn\n",
    "import time\n",
    "\n",
    "\n",
    "from nltk.tokenize import TweetTokenizer # doesn't split at apostrophes\n",
    "import nltk\n",
    "from nltk import Text\n",
    "from nltk.tokenize import regexp_tokenize\n",
    "from nltk.tokenize import word_tokenize  \n",
    "from nltk.tokenize import sent_tokenize \n",
    "from nltk.corpus import stopwords\n",
    "from nltk.stem import WordNetLemmatizer\n",
    "from nltk.stem import PorterStemmer\n",
    "\n",
    "\n",
    "from sklearn.feature_extraction.text import CountVectorizer\n",
    "from sklearn.feature_extraction.text import TfidfVectorizer\n",
    "from sklearn.linear_model import LogisticRegression \n",
    "from sklearn.naive_bayes import MultinomialNB\n",
    "from sklearn.multiclass import OneVsRestClassifier\n",
    "from sklearn.linear_model import SGDClassifier\n",
    "from sklearn.dummy import DummyClassifier\n",
    "from sklearn.linear_model import Perceptron\n",
    "from sklearn.linear_model import PassiveAggressiveClassifier\n",
    "\n",
    "from sklearn.neural_network import MLPClassifier\n",
    "\n",
    "\n",
    "\n",
    "from sklearn.model_selection import cross_val_score\n",
    "from sklearn.model_selection import train_test_split\n",
    "from sklearn import metrics\n",
    "from sklearn.metrics import classification_report\n",
    "from sklearn.metrics import confusion_matrix\n",
    "from sklearn.model_selection import GridSearchCV\n",
    "from sklearn.pipeline import make_pipeline\n",
    "\n",
    "from sklearn.metrics import accuracy_score\n",
    "from sklearn.metrics import hamming_loss\n",
    "from sklearn.metrics import jaccard_score\n",
    "from sklearn.metrics import cohen_kappa_score\n",
    "\n",
    "from sklearn.svm import LinearSVC"
   ]
  },
  {
   "cell_type": "code",
   "execution_count": 2,
   "metadata": {},
   "outputs": [
    {
     "name": "stdout",
     "output_type": "stream",
     "text": [
      "There are 34886 rows and 11 columns\n"
     ]
    }
   ],
   "source": [
    "movies = pd.read_csv('movies_preprocessed.csv', delimiter=',')\n",
    "# movies.dataframeName = 'wiki_movie_plots_deduped.csv'\n",
    "movies = movies.drop(columns=\"id\")\n",
    "nRow, nCol = movies.shape\n",
    "print(f'There are {nRow} rows and {nCol} columns')"
   ]
  },
  {
   "cell_type": "code",
   "execution_count": 3,
   "metadata": {},
   "outputs": [
    {
     "data": {
      "text/html": [
       "<div>\n",
       "<style scoped>\n",
       "    .dataframe tbody tr th:only-of-type {\n",
       "        vertical-align: middle;\n",
       "    }\n",
       "\n",
       "    .dataframe tbody tr th {\n",
       "        vertical-align: top;\n",
       "    }\n",
       "\n",
       "    .dataframe thead th {\n",
       "        text-align: right;\n",
       "    }\n",
       "</style>\n",
       "<table border=\"1\" class=\"dataframe\">\n",
       "  <thead>\n",
       "    <tr style=\"text-align: right;\">\n",
       "      <th></th>\n",
       "      <th>PlotClean</th>\n",
       "      <th>TitleClean</th>\n",
       "      <th>MainGenresCount</th>\n",
       "      <th>action</th>\n",
       "      <th>animation</th>\n",
       "      <th>comedy</th>\n",
       "      <th>crime</th>\n",
       "      <th>drama</th>\n",
       "      <th>musical</th>\n",
       "      <th>romance</th>\n",
       "      <th>thriller</th>\n",
       "    </tr>\n",
       "  </thead>\n",
       "  <tbody>\n",
       "    <tr>\n",
       "      <th>0</th>\n",
       "      <td>a bartender is working at a saloon  serving dr...</td>\n",
       "      <td>kansas saloon smashers</td>\n",
       "      <td>0</td>\n",
       "      <td>0</td>\n",
       "      <td>0</td>\n",
       "      <td>0</td>\n",
       "      <td>0</td>\n",
       "      <td>0</td>\n",
       "      <td>0</td>\n",
       "      <td>0</td>\n",
       "      <td>0</td>\n",
       "    </tr>\n",
       "    <tr>\n",
       "      <th>1</th>\n",
       "      <td>the moon  painted with a smiling face hangs ov...</td>\n",
       "      <td>love by the light of the moon</td>\n",
       "      <td>0</td>\n",
       "      <td>0</td>\n",
       "      <td>0</td>\n",
       "      <td>0</td>\n",
       "      <td>0</td>\n",
       "      <td>0</td>\n",
       "      <td>0</td>\n",
       "      <td>0</td>\n",
       "      <td>0</td>\n",
       "    </tr>\n",
       "    <tr>\n",
       "      <th>2</th>\n",
       "      <td>the film  just over a minute long  is composed...</td>\n",
       "      <td>the martyred presidents</td>\n",
       "      <td>0</td>\n",
       "      <td>0</td>\n",
       "      <td>0</td>\n",
       "      <td>0</td>\n",
       "      <td>0</td>\n",
       "      <td>0</td>\n",
       "      <td>0</td>\n",
       "      <td>0</td>\n",
       "      <td>0</td>\n",
       "    </tr>\n",
       "    <tr>\n",
       "      <th>3</th>\n",
       "      <td>lasting just 61 seconds and consisting of two ...</td>\n",
       "      <td>terrible teddy  the grizzly king</td>\n",
       "      <td>0</td>\n",
       "      <td>0</td>\n",
       "      <td>0</td>\n",
       "      <td>0</td>\n",
       "      <td>0</td>\n",
       "      <td>0</td>\n",
       "      <td>0</td>\n",
       "      <td>0</td>\n",
       "      <td>0</td>\n",
       "    </tr>\n",
       "    <tr>\n",
       "      <th>4</th>\n",
       "      <td>the earliest known adaptation of the classic f...</td>\n",
       "      <td>jack and the beanstalk</td>\n",
       "      <td>0</td>\n",
       "      <td>0</td>\n",
       "      <td>0</td>\n",
       "      <td>0</td>\n",
       "      <td>0</td>\n",
       "      <td>0</td>\n",
       "      <td>0</td>\n",
       "      <td>0</td>\n",
       "      <td>0</td>\n",
       "    </tr>\n",
       "  </tbody>\n",
       "</table>\n",
       "</div>"
      ],
      "text/plain": [
       "                                           PlotClean  \\\n",
       "0  a bartender is working at a saloon  serving dr...   \n",
       "1  the moon  painted with a smiling face hangs ov...   \n",
       "2  the film  just over a minute long  is composed...   \n",
       "3  lasting just 61 seconds and consisting of two ...   \n",
       "4  the earliest known adaptation of the classic f...   \n",
       "\n",
       "                         TitleClean  MainGenresCount  action  animation  \\\n",
       "0            kansas saloon smashers                0       0          0   \n",
       "1     love by the light of the moon                0       0          0   \n",
       "2           the martyred presidents                0       0          0   \n",
       "3  terrible teddy  the grizzly king                0       0          0   \n",
       "4            jack and the beanstalk                0       0          0   \n",
       "\n",
       "   comedy  crime  drama  musical  romance  thriller  \n",
       "0       0      0      0        0        0         0  \n",
       "1       0      0      0        0        0         0  \n",
       "2       0      0      0        0        0         0  \n",
       "3       0      0      0        0        0         0  \n",
       "4       0      0      0        0        0         0  "
      ]
     },
     "execution_count": 3,
     "metadata": {},
     "output_type": "execute_result"
    }
   ],
   "source": [
    "movies.head()"
   ]
  },
  {
   "cell_type": "markdown",
   "metadata": {},
   "source": [
    "## 2. Feature Engineering"
   ]
  },
  {
   "cell_type": "markdown",
   "metadata": {},
   "source": [
    "**Train and Test split**"
   ]
  },
  {
   "cell_type": "code",
   "execution_count": 4,
   "metadata": {},
   "outputs": [],
   "source": [
    "# the train and the test data set will be build when there is at least one genre for a movie\n",
    "MoviesTrain, MoviesTest = train_test_split(movies[movies.MainGenresCount!=0], random_state=42, test_size=0.20, shuffle=True)"
   ]
  },
  {
   "cell_type": "code",
   "execution_count": 5,
   "metadata": {},
   "outputs": [
    {
     "data": {
      "text/html": [
       "<div>\n",
       "<style scoped>\n",
       "    .dataframe tbody tr th:only-of-type {\n",
       "        vertical-align: middle;\n",
       "    }\n",
       "\n",
       "    .dataframe tbody tr th {\n",
       "        vertical-align: top;\n",
       "    }\n",
       "\n",
       "    .dataframe thead th {\n",
       "        text-align: right;\n",
       "    }\n",
       "</style>\n",
       "<table border=\"1\" class=\"dataframe\">\n",
       "  <thead>\n",
       "    <tr style=\"text-align: right;\">\n",
       "      <th></th>\n",
       "      <th>PlotClean</th>\n",
       "      <th>TitleClean</th>\n",
       "      <th>MainGenresCount</th>\n",
       "      <th>action</th>\n",
       "      <th>animation</th>\n",
       "      <th>comedy</th>\n",
       "      <th>crime</th>\n",
       "      <th>drama</th>\n",
       "      <th>musical</th>\n",
       "      <th>romance</th>\n",
       "      <th>thriller</th>\n",
       "    </tr>\n",
       "  </thead>\n",
       "  <tbody>\n",
       "    <tr>\n",
       "      <th>30733</th>\n",
       "      <td>the story is told through the protagonist muru...</td>\n",
       "      <td>veyil</td>\n",
       "      <td>1</td>\n",
       "      <td>0</td>\n",
       "      <td>0</td>\n",
       "      <td>0</td>\n",
       "      <td>0</td>\n",
       "      <td>1</td>\n",
       "      <td>0</td>\n",
       "      <td>0</td>\n",
       "      <td>0</td>\n",
       "    </tr>\n",
       "    <tr>\n",
       "      <th>1040</th>\n",
       "      <td>eddie haskins  lease   a wisecracking young ma...</td>\n",
       "      <td>troopers three</td>\n",
       "      <td>1</td>\n",
       "      <td>0</td>\n",
       "      <td>0</td>\n",
       "      <td>1</td>\n",
       "      <td>0</td>\n",
       "      <td>0</td>\n",
       "      <td>0</td>\n",
       "      <td>0</td>\n",
       "      <td>0</td>\n",
       "    </tr>\n",
       "    <tr>\n",
       "      <th>16958</th>\n",
       "      <td>five days after the assault on the abnegation ...</td>\n",
       "      <td>the divergent series: insurgent</td>\n",
       "      <td>1</td>\n",
       "      <td>1</td>\n",
       "      <td>0</td>\n",
       "      <td>0</td>\n",
       "      <td>0</td>\n",
       "      <td>0</td>\n",
       "      <td>0</td>\n",
       "      <td>0</td>\n",
       "      <td>0</td>\n",
       "    </tr>\n",
       "    <tr>\n",
       "      <th>5844</th>\n",
       "      <td>tom is busy designing a mousetrap in the attic...</td>\n",
       "      <td>designs on jerry</td>\n",
       "      <td>1</td>\n",
       "      <td>0</td>\n",
       "      <td>1</td>\n",
       "      <td>0</td>\n",
       "      <td>0</td>\n",
       "      <td>0</td>\n",
       "      <td>0</td>\n",
       "      <td>0</td>\n",
       "      <td>0</td>\n",
       "    </tr>\n",
       "    <tr>\n",
       "      <th>2040</th>\n",
       "      <td>alan colby  heir to a vast fortune  reappears ...</td>\n",
       "      <td>charlie chan  secret</td>\n",
       "      <td>1</td>\n",
       "      <td>0</td>\n",
       "      <td>0</td>\n",
       "      <td>1</td>\n",
       "      <td>0</td>\n",
       "      <td>0</td>\n",
       "      <td>0</td>\n",
       "      <td>0</td>\n",
       "      <td>0</td>\n",
       "    </tr>\n",
       "  </tbody>\n",
       "</table>\n",
       "</div>"
      ],
      "text/plain": [
       "                                               PlotClean  \\\n",
       "30733  the story is told through the protagonist muru...   \n",
       "1040   eddie haskins  lease   a wisecracking young ma...   \n",
       "16958  five days after the assault on the abnegation ...   \n",
       "5844   tom is busy designing a mousetrap in the attic...   \n",
       "2040   alan colby  heir to a vast fortune  reappears ...   \n",
       "\n",
       "                            TitleClean  MainGenresCount  action  animation  \\\n",
       "30733                            veyil                1       0          0   \n",
       "1040                    troopers three                1       0          0   \n",
       "16958  the divergent series: insurgent                1       1          0   \n",
       "5844                  designs on jerry                1       0          1   \n",
       "2040              charlie chan  secret                1       0          0   \n",
       "\n",
       "       comedy  crime  drama  musical  romance  thriller  \n",
       "30733       0      0      1        0        0         0  \n",
       "1040        1      0      0        0        0         0  \n",
       "16958       0      0      0        0        0         0  \n",
       "5844        0      0      0        0        0         0  \n",
       "2040        1      0      0        0        0         0  "
      ]
     },
     "execution_count": 5,
     "metadata": {},
     "output_type": "execute_result"
    }
   ],
   "source": [
    "MoviesTrain.head()"
   ]
  },
  {
   "cell_type": "markdown",
   "metadata": {},
   "source": [
    "**Features**"
   ]
  },
  {
   "cell_type": "code",
   "execution_count": 6,
   "metadata": {},
   "outputs": [],
   "source": [
    "# definition the algorithm for feature extraction\n",
    "tfidf = TfidfVectorizer(stop_words ='english', smooth_idf=False, sublinear_tf=False, norm=None, analyzer='word')"
   ]
  },
  {
   "cell_type": "code",
   "execution_count": 7,
   "metadata": {},
   "outputs": [],
   "source": [
    "# building the features\n",
    "x_train = tfidf.fit_transform(MoviesTrain.PlotClean) \n",
    "x_test  = tfidf.transform(MoviesTest.PlotClean)\n",
    "### for test data, the feature extraction will be done through the function transform()\n",
    "### to make sure there is no features dimensionality mismatch"
   ]
  },
  {
   "cell_type": "code",
   "execution_count": 8,
   "metadata": {},
   "outputs": [
    {
     "name": "stdout",
     "output_type": "stream",
     "text": [
      "nrow of the MoviesTrain =21065\n",
      "nrow of the MoviesTest =5267\n"
     ]
    }
   ],
   "source": [
    "print('nrow of the MoviesTrain ={}'. format(MoviesTrain.shape[0]))\n",
    "print('nrow of the MoviesTest ={}'. format(MoviesTest.shape[0]))"
   ]
  },
  {
   "cell_type": "markdown",
   "metadata": {},
   "source": [
    "**Building the classes**"
   ]
  },
  {
   "cell_type": "code",
   "execution_count": 9,
   "metadata": {},
   "outputs": [],
   "source": [
    "# building the classes\n",
    "y_train = MoviesTrain[MoviesTrain.columns[3:]]\n",
    "y_test = MoviesTest[MoviesTest.columns[3:]]"
   ]
  },
  {
   "cell_type": "code",
   "execution_count": 10,
   "metadata": {},
   "outputs": [
    {
     "name": "stdout",
     "output_type": "stream",
     "text": [
      "number of y_train classes 8\n",
      "number of y_test classes 8\n"
     ]
    }
   ],
   "source": [
    "print('number of y_train classes',len(y_train.columns))\n",
    "print('number of y_test classes',len(y_test.columns))"
   ]
  },
  {
   "cell_type": "markdown",
   "metadata": {},
   "source": [
    "## 3. Model Selection and Parameter Adjustment"
   ]
  },
  {
   "cell_type": "markdown",
   "metadata": {},
   "source": [
    "### 3.1 Model Selection"
   ]
  },
  {
   "cell_type": "markdown",
   "metadata": {},
   "source": [
    "**Multinomial Naive Bayes**"
   ]
  },
  {
   "cell_type": "code",
   "execution_count": 215,
   "metadata": {},
   "outputs": [],
   "source": [
    "multinomialNB=OneVsRestClassifier(MultinomialNB(fit_prior=True, class_prior=None))"
   ]
  },
  {
   "cell_type": "code",
   "execution_count": 216,
   "metadata": {},
   "outputs": [
    {
     "data": {
      "text/plain": [
       "OneVsRestClassifier(estimator=MultinomialNB())"
      ]
     },
     "execution_count": 216,
     "metadata": {},
     "output_type": "execute_result"
    }
   ],
   "source": [
    "# fitting\n",
    "multinomialNB.fit(x_train, y_train.action)"
   ]
  },
  {
   "cell_type": "code",
   "execution_count": 217,
   "metadata": {},
   "outputs": [],
   "source": [
    "# compute the testing accuracy for plot\n",
    "prediction = multinomialNB.predict(x_test)"
   ]
  },
  {
   "cell_type": "code",
   "execution_count": 235,
   "metadata": {},
   "outputs": [
    {
     "name": "stdout",
     "output_type": "stream",
     "text": [
      "Test accuracy is 0.8241883425099678\n",
      "Test hamming loss is 0.17581165749003227\n",
      "Test jaccard score is 0.45271867612293143\n"
     ]
    }
   ],
   "source": [
    "print('Test accuracy is {}'.format(accuracy_score(y_test.action, prediction)))\n",
    "print('Test hamming loss is {}'.format(hamming_loss(y_test.action, prediction)))\n",
    "print('Test jaccard score is {}'.format(jaccard_score(y_test.action, prediction)))"
   ]
  },
  {
   "cell_type": "markdown",
   "metadata": {},
   "source": [
    "**Linear SVC**"
   ]
  },
  {
   "cell_type": "code",
   "execution_count": 219,
   "metadata": {},
   "outputs": [],
   "source": [
    "linearSVC=OneVsRestClassifier(LinearSVC(), n_jobs=1)"
   ]
  },
  {
   "cell_type": "code",
   "execution_count": 220,
   "metadata": {},
   "outputs": [
    {
     "name": "stderr",
     "output_type": "stream",
     "text": [
      "D:\\programming\\Anaconda3\\lib\\site-packages\\sklearn\\svm\\_base.py:976: ConvergenceWarning: Liblinear failed to converge, increase the number of iterations.\n",
      "  warnings.warn(\"Liblinear failed to converge, increase \"\n"
     ]
    },
    {
     "data": {
      "text/plain": [
       "OneVsRestClassifier(estimator=LinearSVC(), n_jobs=1)"
      ]
     },
     "execution_count": 220,
     "metadata": {},
     "output_type": "execute_result"
    }
   ],
   "source": [
    "# fitting\n",
    "linearSVC.fit(x_train, y_train.action)"
   ]
  },
  {
   "cell_type": "code",
   "execution_count": 221,
   "metadata": {},
   "outputs": [],
   "source": [
    "# compute the testing accuracy for title\n",
    "prediction_lrSVC = linearSVC.predict(x_test)"
   ]
  },
  {
   "cell_type": "code",
   "execution_count": 223,
   "metadata": {},
   "outputs": [
    {
     "name": "stdout",
     "output_type": "stream",
     "text": [
      "Test accuracy is 0.8023542813745965\n",
      "Test hamming loss is 0.19764571862540345\n",
      "Test jaccard score is 0.39158386908240794\n"
     ]
    }
   ],
   "source": [
    "print('Test accuracy is {}'.format(accuracy_score(y_test.action, prediction_lrSVC)))\n",
    "print('Test hamming loss is {}'.format(hamming_loss(y_test.action, prediction_lrSVC)))\n",
    "print('Test jaccard score is {}'.format(jaccard_score(y_test.action, prediction_lrSVC)))"
   ]
  },
  {
   "cell_type": "markdown",
   "metadata": {},
   "source": [
    "**Logistic Regression**"
   ]
  },
  {
   "cell_type": "code",
   "execution_count": 65,
   "metadata": {},
   "outputs": [],
   "source": [
    "LR=OneVsRestClassifier(LogisticRegression(), n_jobs=1)"
   ]
  },
  {
   "cell_type": "code",
   "execution_count": 66,
   "metadata": {},
   "outputs": [
    {
     "name": "stderr",
     "output_type": "stream",
     "text": [
      "D:\\programming\\Anaconda3\\lib\\site-packages\\sklearn\\linear_model\\_logistic.py:762: ConvergenceWarning: lbfgs failed to converge (status=1):\n",
      "STOP: TOTAL NO. of ITERATIONS REACHED LIMIT.\n",
      "\n",
      "Increase the number of iterations (max_iter) or scale the data as shown in:\n",
      "    https://scikit-learn.org/stable/modules/preprocessing.html\n",
      "Please also refer to the documentation for alternative solver options:\n",
      "    https://scikit-learn.org/stable/modules/linear_model.html#logistic-regression\n",
      "  n_iter_i = _check_optimize_result(\n"
     ]
    },
    {
     "data": {
      "text/plain": [
       "OneVsRestClassifier(estimator=LogisticRegression(), n_jobs=1)"
      ]
     },
     "execution_count": 66,
     "metadata": {},
     "output_type": "execute_result"
    }
   ],
   "source": [
    "# fitting\n",
    "LR.fit(x_train, y_train.action)"
   ]
  },
  {
   "cell_type": "code",
   "execution_count": 67,
   "metadata": {},
   "outputs": [],
   "source": [
    "# compute the testing accuracy for title\n",
    "prediction_LR = LR.predict(x_test)"
   ]
  },
  {
   "cell_type": "code",
   "execution_count": 224,
   "metadata": {},
   "outputs": [
    {
     "name": "stdout",
     "output_type": "stream",
     "text": [
      "Test accuracy for Logistic Regression is 0.8361496107841276\n",
      "Test hamming loss is 0.16385038921587242\n",
      "Test jaccard score is 0.445016077170418\n"
     ]
    }
   ],
   "source": [
    "print('Test accuracy for Logistic Regression is {}'.format(accuracy_score(y_test.action, prediction_LR)))\n",
    "print('Test hamming loss is {}'.format(hamming_loss(y_test.action, prediction_LR)))\n",
    "print('Test jaccard score is {}'.format(jaccard_score(y_test.action, prediction_LR)))"
   ]
  },
  {
   "cell_type": "code",
   "execution_count": 237,
   "metadata": {},
   "outputs": [
    {
     "data": {
      "text/plain": [
       "5267"
      ]
     },
     "execution_count": 237,
     "metadata": {},
     "output_type": "execute_result"
    }
   ],
   "source": [
    "len(prediction)"
   ]
  },
  {
   "cell_type": "markdown",
   "metadata": {},
   "source": [
    "**SGDClassifier**"
   ]
  },
  {
   "cell_type": "code",
   "execution_count": 83,
   "metadata": {},
   "outputs": [],
   "source": [
    "SGD=OneVsRestClassifier(SGDClassifier(), n_jobs=1)"
   ]
  },
  {
   "cell_type": "code",
   "execution_count": 84,
   "metadata": {},
   "outputs": [
    {
     "data": {
      "text/plain": [
       "OneVsRestClassifier(estimator=SGDClassifier(), n_jobs=1)"
      ]
     },
     "execution_count": 84,
     "metadata": {},
     "output_type": "execute_result"
    }
   ],
   "source": [
    "# fitting\n",
    "SGD.fit(x_train, y_train.action)"
   ]
  },
  {
   "cell_type": "code",
   "execution_count": 85,
   "metadata": {},
   "outputs": [],
   "source": [
    "# compute the testing accuracy for title\n",
    "prediction_SGD = SGD.predict(x_test)"
   ]
  },
  {
   "cell_type": "code",
   "execution_count": 225,
   "metadata": {},
   "outputs": [
    {
     "name": "stdout",
     "output_type": "stream",
     "text": [
      "Test accuracy for SGD Classifier is 0.8414657300170876\n",
      "Test hamming loss is 0.15853426998291248\n",
      "Test jaccard score is 0.40947666195190946\n"
     ]
    }
   ],
   "source": [
    "print('Test accuracy for SGD Classifier is {}'.format(accuracy_score(y_test.action, prediction_SGD)))\n",
    "print('Test hamming loss is {}'.format(hamming_loss(y_test.action, prediction_SGD)))\n",
    "print('Test jaccard score is {}'.format(jaccard_score(y_test.action, prediction_SGD)))"
   ]
  },
  {
   "cell_type": "markdown",
   "metadata": {},
   "source": [
    "**Dummy Classifier**"
   ]
  },
  {
   "cell_type": "code",
   "execution_count": 87,
   "metadata": {},
   "outputs": [],
   "source": [
    "dummy=OneVsRestClassifier(DummyClassifier(), n_jobs=1)"
   ]
  },
  {
   "cell_type": "code",
   "execution_count": 88,
   "metadata": {},
   "outputs": [
    {
     "name": "stderr",
     "output_type": "stream",
     "text": [
      "D:\\programming\\Anaconda3\\lib\\site-packages\\sklearn\\dummy.py:131: FutureWarning: The default value of strategy will change from stratified to prior in 0.24.\n",
      "  warnings.warn(\"The default value of strategy will change from \"\n"
     ]
    },
    {
     "data": {
      "text/plain": [
       "OneVsRestClassifier(estimator=DummyClassifier(), n_jobs=1)"
      ]
     },
     "execution_count": 88,
     "metadata": {},
     "output_type": "execute_result"
    }
   ],
   "source": [
    "dummy.fit(x_train, y_train.action)"
   ]
  },
  {
   "cell_type": "code",
   "execution_count": 89,
   "metadata": {},
   "outputs": [],
   "source": [
    "prediction_dummy = dummy.predict(x_test)"
   ]
  },
  {
   "cell_type": "code",
   "execution_count": 226,
   "metadata": {},
   "outputs": [
    {
     "name": "stdout",
     "output_type": "stream",
     "text": [
      "Test accuracy for Dummy Classifier is 0.6417315359787356\n",
      "Test hamming loss is 0.3582684640212645\n",
      "Test jaccard score is 0.12314126394052044\n"
     ]
    }
   ],
   "source": [
    "print('Test accuracy for Dummy Classifier is {}'.format(accuracy_score(y_test.action, prediction_dummy)))\n",
    "print('Test hamming loss is {}'.format(hamming_loss(y_test.action, prediction_dummy)))\n",
    "print('Test jaccard score is {}'.format(jaccard_score(y_test.action, prediction_dummy)))"
   ]
  },
  {
   "cell_type": "markdown",
   "metadata": {},
   "source": [
    "**Perceptron**"
   ]
  },
  {
   "cell_type": "code",
   "execution_count": 91,
   "metadata": {},
   "outputs": [],
   "source": [
    "perceptron=OneVsRestClassifier(Perceptron(), n_jobs=1)"
   ]
  },
  {
   "cell_type": "code",
   "execution_count": 92,
   "metadata": {},
   "outputs": [
    {
     "data": {
      "text/plain": [
       "OneVsRestClassifier(estimator=Perceptron(), n_jobs=1)"
      ]
     },
     "execution_count": 92,
     "metadata": {},
     "output_type": "execute_result"
    }
   ],
   "source": [
    "perceptron.fit(x_train, y_train.action)"
   ]
  },
  {
   "cell_type": "code",
   "execution_count": 93,
   "metadata": {},
   "outputs": [],
   "source": [
    "prediction_perceptron = perceptron.predict(x_test)"
   ]
  },
  {
   "cell_type": "code",
   "execution_count": 227,
   "metadata": {},
   "outputs": [
    {
     "name": "stdout",
     "output_type": "stream",
     "text": [
      "Test accuracy for Perceptron is 0.8105183216252136\n",
      "Test hamming loss is 0.1894816783747864\n",
      "Test jaccard score is 0.41671537112799534\n"
     ]
    }
   ],
   "source": [
    "print('Test accuracy for Perceptron is {}'.format(accuracy_score(y_test.action, prediction_perceptron)))\n",
    "print('Test hamming loss is {}'.format(hamming_loss(y_test.action, prediction_perceptron)))\n",
    "print('Test jaccard score is {}'.format(jaccard_score(y_test.action, prediction_perceptron)))"
   ]
  },
  {
   "cell_type": "markdown",
   "metadata": {},
   "source": [
    "**Passive Aggressive Classifier**"
   ]
  },
  {
   "cell_type": "code",
   "execution_count": 95,
   "metadata": {},
   "outputs": [],
   "source": [
    "PAC=OneVsRestClassifier(Perceptron(), n_jobs=1)"
   ]
  },
  {
   "cell_type": "code",
   "execution_count": 96,
   "metadata": {},
   "outputs": [
    {
     "data": {
      "text/plain": [
       "OneVsRestClassifier(estimator=Perceptron(), n_jobs=1)"
      ]
     },
     "execution_count": 96,
     "metadata": {},
     "output_type": "execute_result"
    }
   ],
   "source": [
    "PAC.fit(x_train, y_train.action)"
   ]
  },
  {
   "cell_type": "code",
   "execution_count": 97,
   "metadata": {},
   "outputs": [],
   "source": [
    "prediction_PAC = PAC.predict(x_test)"
   ]
  },
  {
   "cell_type": "code",
   "execution_count": 228,
   "metadata": {},
   "outputs": [
    {
     "name": "stdout",
     "output_type": "stream",
     "text": [
      "Test accuracy for Passive Aggressive Classifier is 0.8105183216252136\n",
      "Test hamming loss is 0.1894816783747864\n",
      "Test jaccard score is 0.41671537112799534\n"
     ]
    }
   ],
   "source": [
    "print('Test accuracy for Passive Aggressive Classifier is {}'.format(accuracy_score(y_test.action, prediction_PAC)))\n",
    "print('Test hamming loss is {}'.format(hamming_loss(y_test.action, prediction_PAC)))\n",
    "print('Test jaccard score is {}'.format(jaccard_score(y_test.action, prediction_PAC)))"
   ]
  },
  {
   "cell_type": "markdown",
   "metadata": {},
   "source": [
    "**Multi-layer Perceptron Classifier**"
   ]
  },
  {
   "cell_type": "code",
   "execution_count": 100,
   "metadata": {},
   "outputs": [],
   "source": [
    "MPC=OneVsRestClassifier(MLPClassifier(), n_jobs=1)"
   ]
  },
  {
   "cell_type": "code",
   "execution_count": 101,
   "metadata": {},
   "outputs": [
    {
     "data": {
      "text/plain": [
       "OneVsRestClassifier(estimator=MLPClassifier(), n_jobs=1)"
      ]
     },
     "execution_count": 101,
     "metadata": {},
     "output_type": "execute_result"
    }
   ],
   "source": [
    "MPC.fit(x_train, y_train.action)"
   ]
  },
  {
   "cell_type": "code",
   "execution_count": 102,
   "metadata": {},
   "outputs": [],
   "source": [
    "prediction_MPC = MPC.predict(x_test)"
   ]
  },
  {
   "cell_type": "code",
   "execution_count": 229,
   "metadata": {},
   "outputs": [
    {
     "name": "stdout",
     "output_type": "stream",
     "text": [
      "Test accuracy for Multi-layer Perceptron Classifier is 0.8264666793240935\n",
      "Test hamming loss is 0.1735333206759066\n",
      "Test jaccard score is 0.4061078622482131\n"
     ]
    }
   ],
   "source": [
    "print('Test accuracy for Multi-layer Perceptron Classifier is {}'.format(accuracy_score(y_test.action, prediction_MPC)))\n",
    "print('Test hamming loss is {}'.format(hamming_loss(y_test.action, prediction_MPC)))\n",
    "print('Test jaccard score is {}'.format(jaccard_score(y_test.action, prediction_MPC)))"
   ]
  },
  {
   "cell_type": "markdown",
   "metadata": {},
   "source": [
    "Out of the above eight models, we choose two models that perform best among them, Multinomial Naive Bayes and Logistic Regression."
   ]
  },
  {
   "cell_type": "markdown",
   "metadata": {},
   "source": [
    "### 3.2 Parameter Adjustment"
   ]
  },
  {
   "cell_type": "markdown",
   "metadata": {},
   "source": [
    "**Naive Bayse**"
   ]
  },
  {
   "cell_type": "code",
   "execution_count": 24,
   "metadata": {},
   "outputs": [],
   "source": [
    "def naive_bayes_find_optimal_alpha(x_tr, y_tr, alpha_value):    \n",
    "    NB = OneVsRestClassifier(MultinomialNB(),n_jobs=-1)\n",
    "    gsv = GridSearchCV(NB,alpha_value,cv=5,verbose=1, scoring=\"jaccard_samples\", n_jobs=-1)\n",
    "    gsv.fit(x_tr,y_tr)\n",
    "    print(\"Best HyperParameter: \",gsv.best_params_)\n",
    "    print(gsv.best_score_)\n",
    "    optimal_alpha=gsv.best_params_['estimator__alpha']\n",
    "\n",
    "    print(gsv.cv_results_)\n",
    "    return gsv.best_params_"
   ]
  },
  {
   "cell_type": "code",
   "execution_count": 19,
   "metadata": {},
   "outputs": [
    {
     "data": {
      "text/plain": [
       "dict_keys(['explained_variance', 'r2', 'max_error', 'neg_median_absolute_error', 'neg_mean_absolute_error', 'neg_mean_squared_error', 'neg_mean_squared_log_error', 'neg_root_mean_squared_error', 'neg_mean_poisson_deviance', 'neg_mean_gamma_deviance', 'accuracy', 'roc_auc', 'roc_auc_ovr', 'roc_auc_ovo', 'roc_auc_ovr_weighted', 'roc_auc_ovo_weighted', 'balanced_accuracy', 'average_precision', 'neg_log_loss', 'neg_brier_score', 'adjusted_rand_score', 'homogeneity_score', 'completeness_score', 'v_measure_score', 'mutual_info_score', 'adjusted_mutual_info_score', 'normalized_mutual_info_score', 'fowlkes_mallows_score', 'precision', 'precision_macro', 'precision_micro', 'precision_samples', 'precision_weighted', 'recall', 'recall_macro', 'recall_micro', 'recall_samples', 'recall_weighted', 'f1', 'f1_macro', 'f1_micro', 'f1_samples', 'f1_weighted', 'jaccard', 'jaccard_macro', 'jaccard_micro', 'jaccard_samples', 'jaccard_weighted'])"
      ]
     },
     "execution_count": 19,
     "metadata": {},
     "output_type": "execute_result"
    }
   ],
   "source": [
    "import sklearn\n",
    "sklearn.metrics.SCORERS.keys()"
   ]
  },
  {
   "cell_type": "code",
   "execution_count": 25,
   "metadata": {
    "scrolled": true
   },
   "outputs": [
    {
     "name": "stdout",
     "output_type": "stream",
     "text": [
      "Fitting 5 folds for each of 29 candidates, totalling 145 fits\n"
     ]
    },
    {
     "name": "stderr",
     "output_type": "stream",
     "text": [
      "[Parallel(n_jobs=-1)]: Using backend LokyBackend with 12 concurrent workers.\n",
      "[Parallel(n_jobs=-1)]: Done  26 tasks      | elapsed:    4.3s\n",
      "[Parallel(n_jobs=-1)]: Done 145 out of 145 | elapsed:   12.5s finished\n"
     ]
    },
    {
     "name": "stdout",
     "output_type": "stream",
     "text": [
      "Best HyperParameter:  {'estimator__alpha': 10}\n",
      "0.45406044782023897\n",
      "{'mean_fit_time': array([0.32707419, 0.58993211, 0.65305367, 0.50021644, 0.57445512,\n",
      "       0.53791962, 0.67955341, 0.46830401, 0.57412782, 0.47910743,\n",
      "       0.63294063, 0.58573365, 0.52311692, 0.54852324, 0.56332612,\n",
      "       0.51911626, 0.60373621, 0.63134127, 0.64394541, 0.41009111,\n",
      "       0.64934616, 0.57873874, 0.49082994, 0.58433137, 0.5679275 ,\n",
      "       0.52193799, 0.51555738, 0.57212873, 0.48590708]), 'std_fit_time': array([0.10656675, 0.13639862, 0.13872548, 0.03230594, 0.13397829,\n",
      "       0.14067726, 0.09632405, 0.10938606, 0.07851424, 0.1616828 ,\n",
      "       0.11679968, 0.21635455, 0.07799447, 0.16965227, 0.09095298,\n",
      "       0.15581883, 0.19158538, 0.11693236, 0.18467828, 0.11354185,\n",
      "       0.13032955, 0.22433093, 0.10298772, 0.11201776, 0.24837081,\n",
      "       0.11777207, 0.05315297, 0.04481139, 0.12551905]), 'mean_score_time': array([0.22905293, 0.20344634, 0.20386081, 0.21998382, 0.24845743,\n",
      "       0.25406079, 0.30787139, 0.28086638, 0.20144625, 0.30406995,\n",
      "       0.20564723, 0.27406135, 0.25445914, 0.21464949, 0.2976696 ,\n",
      "       0.24225483, 0.23945398, 0.25085869, 0.2086484 , 0.29486871,\n",
      "       0.32498689, 0.1976521 , 0.28506618, 0.2216506 , 0.30150042,\n",
      "       0.2262814 , 0.30386953, 0.18704352, 0.11262488]), 'std_score_time': array([0.07831665, 0.08229229, 0.06289461, 0.04237508, 0.07170702,\n",
      "       0.06181308, 0.08846202, 0.05816873, 0.04116079, 0.09580971,\n",
      "       0.01929867, 0.08090855, 0.03739637, 0.05780873, 0.06374854,\n",
      "       0.06533198, 0.0785305 , 0.05535455, 0.06833162, 0.07311672,\n",
      "       0.09575245, 0.05723444, 0.050935  , 0.06102728, 0.07269042,\n",
      "       0.07915467, 0.07731031, 0.03471243, 0.04248205]), 'param_estimator__alpha': masked_array(data=[1, 2, 3, 4, 5, 6, 7, 8, 9, 10, 11, 12, 13, 14, 15, 16,\n",
      "                   17, 18, 19, 20, 21, 22, 23, 24, 25, 26, 27, 28, 29],\n",
      "             mask=[False, False, False, False, False, False, False, False,\n",
      "                   False, False, False, False, False, False, False, False,\n",
      "                   False, False, False, False, False, False, False, False,\n",
      "                   False, False, False, False, False],\n",
      "       fill_value='?',\n",
      "            dtype=object), 'params': [{'estimator__alpha': 1}, {'estimator__alpha': 2}, {'estimator__alpha': 3}, {'estimator__alpha': 4}, {'estimator__alpha': 5}, {'estimator__alpha': 6}, {'estimator__alpha': 7}, {'estimator__alpha': 8}, {'estimator__alpha': 9}, {'estimator__alpha': 10}, {'estimator__alpha': 11}, {'estimator__alpha': 12}, {'estimator__alpha': 13}, {'estimator__alpha': 14}, {'estimator__alpha': 15}, {'estimator__alpha': 16}, {'estimator__alpha': 17}, {'estimator__alpha': 18}, {'estimator__alpha': 19}, {'estimator__alpha': 20}, {'estimator__alpha': 21}, {'estimator__alpha': 22}, {'estimator__alpha': 23}, {'estimator__alpha': 24}, {'estimator__alpha': 25}, {'estimator__alpha': 26}, {'estimator__alpha': 27}, {'estimator__alpha': 28}, {'estimator__alpha': 29}], 'split0_test_score': array([0.43259215, 0.43341528, 0.43635855, 0.43994524, 0.44536638,\n",
      "       0.44944503, 0.45353328, 0.45531207, 0.45695269, 0.45753902,\n",
      "       0.45601935, 0.45406989, 0.4526655 , 0.44944842, 0.44640314,\n",
      "       0.44423073, 0.43757107, 0.435098  , 0.43314542, 0.42941152,\n",
      "       0.42701559, 0.42039068, 0.41594102, 0.4124295 , 0.40540645,\n",
      "       0.39980192, 0.39358053, 0.38790818, 0.38232964]), 'split1_test_score': array([0.42071197, 0.42064641, 0.42634533, 0.43087609, 0.43738655,\n",
      "       0.43884575, 0.44130837, 0.4428433 , 0.44425418, 0.44180513,\n",
      "       0.44126598, 0.44170312, 0.43958807, 0.43829926, 0.43741424,\n",
      "       0.43598669, 0.43346784, 0.43001594, 0.42512377, 0.42118471,\n",
      "       0.41653527, 0.41100647, 0.40710951, 0.39954449, 0.39343444,\n",
      "       0.38756937, 0.38396093, 0.37762509, 0.37214207]), 'split2_test_score': array([0.43841935, 0.43738598, 0.43976326, 0.4462822 , 0.45039984,\n",
      "       0.45534796, 0.45638641, 0.4587213 , 0.46324924, 0.46411617,\n",
      "       0.46176602, 0.46043284, 0.45920705, 0.45735705, 0.4565828 ,\n",
      "       0.45354176, 0.45021419, 0.44685215, 0.44223351, 0.43403892,\n",
      "       0.4302355 , 0.42592684, 0.42023583, 0.41511506, 0.40985188,\n",
      "       0.40402185, 0.39777559, 0.39123207, 0.38478152]), 'split3_test_score': array([0.42833576, 0.42897268, 0.43336555, 0.43938292, 0.44581115,\n",
      "       0.44758994, 0.45086213, 0.45395629, 0.45287235, 0.45267483,\n",
      "       0.45493625, 0.45307975, 0.45270365, 0.45240525, 0.45078075,\n",
      "       0.44775751, 0.44517536, 0.44153414, 0.43556876, 0.43099759,\n",
      "       0.42695766, 0.42109937, 0.41568727, 0.41194602, 0.4065876 ,\n",
      "       0.3985846 , 0.39282465, 0.38642722, 0.38038159]), 'split4_test_score': array([0.4305353 , 0.43172098, 0.43323556, 0.43890537, 0.44305099,\n",
      "       0.44760718, 0.44908871, 0.45064624, 0.45269856, 0.45416709,\n",
      "       0.45326399, 0.45288308, 0.45084376, 0.45247816, 0.44822008,\n",
      "       0.4441663 , 0.44421971, 0.44143185, 0.43883416, 0.43158902,\n",
      "       0.42800515, 0.42082698, 0.41885377, 0.41428882, 0.40822059,\n",
      "       0.40339256, 0.39693833, 0.39099047, 0.38331949]), 'mean_test_score': array([0.43011891, 0.43042827, 0.43381365, 0.43907836, 0.44440298,\n",
      "       0.44776717, 0.45023578, 0.45229584, 0.4540054 , 0.45406045,\n",
      "       0.45345032, 0.45243374, 0.45100161, 0.44999763, 0.4478802 ,\n",
      "       0.4451366 , 0.44212963, 0.43898641, 0.43498112, 0.42944435,\n",
      "       0.42574983, 0.41985007, 0.41556548, 0.41066478, 0.40470019,\n",
      "       0.39867406, 0.393016  , 0.38683661, 0.38059086]), 'std_test_score': array([0.00577681, 0.00560012, 0.00443137, 0.00489993, 0.00424103,\n",
      "       0.00529022, 0.00510119, 0.00538912, 0.00620021, 0.00728481,\n",
      "       0.00672981, 0.00604033, 0.00637634, 0.00637596, 0.0062607 ,\n",
      "       0.00570962, 0.0059129 , 0.00582975, 0.00580216, 0.00438964,\n",
      "       0.00475766, 0.00485683, 0.00456693, 0.00568076, 0.00582943,\n",
      "       0.0059238 , 0.00490689, 0.00495464, 0.00445996]), 'rank_test_score': array([19, 18, 17, 14, 12, 10,  7,  5,  2,  1,  3,  4,  6,  8,  9, 11, 13,\n",
      "       15, 16, 20, 21, 22, 23, 24, 25, 26, 27, 28, 29])}\n"
     ]
    }
   ],
   "source": [
    "params_NB = {\"estimator__alpha\": range(1,30)}\n",
    "best_params_NB = naive_bayes_find_optimal_alpha(x_train,y_train,params_NB)"
   ]
  },
  {
   "cell_type": "code",
   "execution_count": 51,
   "metadata": {},
   "outputs": [
    {
     "name": "stdout",
     "output_type": "stream",
     "text": [
      "Most Appropriate value of alpha is 21\n",
      "Test accuracy is 0.8295044617429277\n",
      "Test hamming loss is 0.17049553825707234\n",
      "Test jaccard score is 0.46832445233866193\n"
     ]
    }
   ],
   "source": [
    "multinomialNB=OneVsRestClassifier(MultinomialNB(alpha=10,fit_prior=True, class_prior=None))\n",
    "# fitting\n",
    "multinomialNB.fit(x_train, y_train.action)\n",
    "# compute the testing accuracy for plot\n",
    "prediction = multinomialNB.predict(x_test)\n",
    "print('Test accuracy is {}'.format(accuracy_score(y_test.action, prediction)))\n",
    "print('Test hamming loss is {}'.format(hamming_loss(y_test.action, prediction)))\n",
    "print('Test jaccard score is {}'.format(jaccard_score(y_test.action, prediction)))"
   ]
  },
  {
   "cell_type": "markdown",
   "metadata": {},
   "source": [
    "**Logistic Regression**"
   ]
  },
  {
   "cell_type": "code",
   "execution_count": 31,
   "metadata": {},
   "outputs": [],
   "source": [
    "import warnings\n",
    "warnings.filterwarnings('ignore')"
   ]
  },
  {
   "cell_type": "code",
   "execution_count": 33,
   "metadata": {},
   "outputs": [],
   "source": [
    "def lr_find_optimal_iter_C(x_tr, y_tr, params):    \n",
    "    NB = OneVsRestClassifier(LogisticRegression(n_jobs=-1), n_jobs=-1)\n",
    "    gsv = GridSearchCV(NB,params,cv=5,verbose=1,scoring=\"jaccard_samples\",n_jobs=-1)\n",
    "    gsv.fit(x_tr,y_tr)\n",
    "    print(\"Best HyperParameter: \",gsv.best_params_)\n",
    "    print(gsv.best_score_)\n",
    "    print(gsv.cv_results_)\n",
    "    return gsv.best_params_"
   ]
  },
  {
   "cell_type": "code",
   "execution_count": 35,
   "metadata": {
    "scrolled": true
   },
   "outputs": [
    {
     "name": "stdout",
     "output_type": "stream",
     "text": [
      "Fitting 5 folds for each of 10 candidates, totalling 50 fits\n"
     ]
    },
    {
     "name": "stderr",
     "output_type": "stream",
     "text": [
      "[Parallel(n_jobs=-1)]: Using backend LokyBackend with 12 concurrent workers.\n",
      "[Parallel(n_jobs=-1)]: Done  26 tasks      | elapsed:  2.7min\n",
      "[Parallel(n_jobs=-1)]: Done  50 out of  50 | elapsed:  4.3min finished\n"
     ]
    },
    {
     "name": "stdout",
     "output_type": "stream",
     "text": [
      "Best HyperParameter:  {'estimator__C': 1, 'estimator__max_iter': 50}\n",
      "0.4594453675132527\n",
      "{'mean_fit_time': array([46.20924468, 50.83672929, 58.54572034, 70.66774659, 73.03477802,\n",
      "       44.59598885, 52.67742844, 62.0360127 , 64.75373311, 54.97174354]), 'std_fit_time': array([ 0.70963415,  0.60857938,  3.99551379,  4.45184145,  4.36338978,\n",
      "        3.70739721,  4.21388023,  7.4445396 ,  3.6239914 , 10.17067473]), 'mean_score_time': array([0.14123831, 0.07922039, 0.22425218, 0.21185069, 0.1864449 ,\n",
      "       0.23065686, 0.20184655, 0.23845463, 0.17644234, 0.04981728]), 'std_score_time': array([0.03528516, 0.01606999, 0.04882486, 0.03243846, 0.03184691,\n",
      "       0.02277902, 0.0851054 , 0.06871339, 0.05940622, 0.02724754]), 'param_estimator__C': masked_array(data=[1, 1, 1, 1, 1, 2, 2, 2, 2, 2],\n",
      "             mask=[False, False, False, False, False, False, False, False,\n",
      "                   False, False],\n",
      "       fill_value='?',\n",
      "            dtype=object), 'param_estimator__max_iter': masked_array(data=[50, 60, 70, 80, 90, 50, 60, 70, 80, 90],\n",
      "             mask=[False, False, False, False, False, False, False, False,\n",
      "                   False, False],\n",
      "       fill_value='?',\n",
      "            dtype=object), 'params': [{'estimator__C': 1, 'estimator__max_iter': 50}, {'estimator__C': 1, 'estimator__max_iter': 60}, {'estimator__C': 1, 'estimator__max_iter': 70}, {'estimator__C': 1, 'estimator__max_iter': 80}, {'estimator__C': 1, 'estimator__max_iter': 90}, {'estimator__C': 2, 'estimator__max_iter': 50}, {'estimator__C': 2, 'estimator__max_iter': 60}, {'estimator__C': 2, 'estimator__max_iter': 70}, {'estimator__C': 2, 'estimator__max_iter': 80}, {'estimator__C': 2, 'estimator__max_iter': 90}], 'split0_test_score': array([0.4682016 , 0.46709392, 0.461781  , 0.46215682, 0.46304692,\n",
      "       0.46590711, 0.467806  , 0.46541261, 0.46840731, 0.46801171]), 'split1_test_score': array([0.44738112, 0.44508664, 0.44888045, 0.44550597, 0.4453596 ,\n",
      "       0.44966374, 0.44706464, 0.44637234, 0.4455218 , 0.44628135]), 'split2_test_score': array([0.47063454, 0.46685656, 0.47002927, 0.46618403, 0.46897302,\n",
      "       0.46781391, 0.46775457, 0.46771501, 0.46679721, 0.46895324]), 'split3_test_score': array([0.45785663, 0.45880608, 0.45843026, 0.45930058, 0.45876652,\n",
      "       0.45595775, 0.45910278, 0.45894454, 0.45813355, 0.45773795]), 'split4_test_score': array([0.45315294, 0.45642456, 0.45600918, 0.45547512, 0.45541578,\n",
      "       0.45216394, 0.45399557, 0.4554672 , 0.45482238, 0.45229449]), 'mean_test_score': array([0.45944537, 0.45885355, 0.45902603, 0.4577245 , 0.45831237,\n",
      "       0.45830129, 0.45914471, 0.45878234, 0.45873645, 0.45865575]), 'std_test_score': array([0.00882648, 0.00809175, 0.00694335, 0.00704337, 0.00790489,\n",
      "       0.00729527, 0.00801986, 0.00759971, 0.00835239, 0.00880916]), 'rank_test_score': array([ 1,  4,  3, 10,  8,  9,  2,  5,  6,  7])}\n"
     ]
    }
   ],
   "source": [
    "params_lr = {\"estimator__max_iter\": range(50,100,10),\"estimator__C\":range(1,3)}\n",
    "best_params_lr = lr_find_optimal_iter_C(x_train,y_train,params_lr)"
   ]
  },
  {
   "cell_type": "code",
   "execution_count": 37,
   "metadata": {
    "scrolled": true
   },
   "outputs": [
    {
     "name": "stdout",
     "output_type": "stream",
     "text": [
      "Fitting 5 folds for each of 20 candidates, totalling 100 fits\n"
     ]
    },
    {
     "name": "stderr",
     "output_type": "stream",
     "text": [
      "[Parallel(n_jobs=-1)]: Using backend LokyBackend with 12 concurrent workers.\n",
      "[Parallel(n_jobs=-1)]: Done  26 tasks      | elapsed:  1.5min\n",
      "[Parallel(n_jobs=-1)]: Done 100 out of 100 | elapsed:  4.9min finished\n"
     ]
    },
    {
     "name": "stdout",
     "output_type": "stream",
     "text": [
      "Best HyperParameter:  {'estimator__C': 1.0, 'estimator__max_iter': 30}\n",
      "0.4664894374554949\n",
      "{'mean_fit_time': array([28.96987314, 30.37439299, 32.77103291, 37.56064587, 43.61039214,\n",
      "       26.08704433, 33.6825211 , 33.05276952, 39.531216  , 42.43573179,\n",
      "       27.87503457, 30.39819078, 33.33431621, 39.53747616, 40.5701601 ,\n",
      "       29.82984352, 29.39440603, 34.0923912 , 37.25837808, 33.03678131]), 'std_fit_time': array([1.32742194, 1.39387599, 1.47258014, 2.01841236, 5.16073515,\n",
      "       0.71862739, 1.16385759, 1.32853713, 4.27210132, 4.17658074,\n",
      "       1.25894632, 1.23451965, 2.53864118, 1.8398744 , 1.73524721,\n",
      "       2.58080983, 2.95676908, 2.74738597, 2.19988203, 0.89584905]), 'mean_score_time': array([0.15383635, 0.09482293, 0.1407403 , 0.14923325, 0.14163175,\n",
      "       0.17964149, 0.199651  , 0.15934176, 0.19505301, 0.12583008,\n",
      "       0.1692378 , 0.2382545 , 0.12862668, 0.21935635, 0.14144769,\n",
      "       0.19404478, 0.2178535 , 0.17183638, 0.1988677 , 0.04841628]), 'std_score_time': array([0.04260117, 0.01215764, 0.06476853, 0.07580907, 0.08764157,\n",
      "       0.06319702, 0.06072879, 0.01273296, 0.07398781, 0.03296136,\n",
      "       0.05915525, 0.05307063, 0.04444363, 0.02153656, 0.04607707,\n",
      "       0.05524499, 0.02660918, 0.05121718, 0.05742252, 0.0223579 ]), 'param_estimator__C': masked_array(data=[0.5, 0.5, 0.5, 0.5, 0.5, 0.7, 0.7, 0.7, 0.7, 0.7, 0.9,\n",
      "                   0.9, 0.9, 0.9, 0.9, 1.0, 1.0, 1.0, 1.0, 1.0],\n",
      "             mask=[False, False, False, False, False, False, False, False,\n",
      "                   False, False, False, False, False, False, False, False,\n",
      "                   False, False, False, False],\n",
      "       fill_value='?',\n",
      "            dtype=object), 'param_estimator__max_iter': masked_array(data=[30, 35, 40, 45, 50, 30, 35, 40, 45, 50, 30, 35, 40, 45,\n",
      "                   50, 30, 35, 40, 45, 50],\n",
      "             mask=[False, False, False, False, False, False, False, False,\n",
      "                   False, False, False, False, False, False, False, False,\n",
      "                   False, False, False, False],\n",
      "       fill_value='?',\n",
      "            dtype=object), 'params': [{'estimator__C': 0.5, 'estimator__max_iter': 30}, {'estimator__C': 0.5, 'estimator__max_iter': 35}, {'estimator__C': 0.5, 'estimator__max_iter': 40}, {'estimator__C': 0.5, 'estimator__max_iter': 45}, {'estimator__C': 0.5, 'estimator__max_iter': 50}, {'estimator__C': 0.7, 'estimator__max_iter': 30}, {'estimator__C': 0.7, 'estimator__max_iter': 35}, {'estimator__C': 0.7, 'estimator__max_iter': 40}, {'estimator__C': 0.7, 'estimator__max_iter': 45}, {'estimator__C': 0.7, 'estimator__max_iter': 50}, {'estimator__C': 0.9, 'estimator__max_iter': 30}, {'estimator__C': 0.9, 'estimator__max_iter': 35}, {'estimator__C': 0.9, 'estimator__max_iter': 40}, {'estimator__C': 0.9, 'estimator__max_iter': 45}, {'estimator__C': 0.9, 'estimator__max_iter': 50}, {'estimator__C': 1.0, 'estimator__max_iter': 30}, {'estimator__C': 1.0, 'estimator__max_iter': 35}, {'estimator__C': 1.0, 'estimator__max_iter': 40}, {'estimator__C': 1.0, 'estimator__max_iter': 45}, {'estimator__C': 1.0, 'estimator__max_iter': 50}], 'split0_test_score': array([0.46955851, 0.46926181, 0.46771897, 0.46673787, 0.46491811,\n",
      "       0.47093124, 0.47158399, 0.46802358, 0.4691906 , 0.46487855,\n",
      "       0.46798402, 0.47000158, 0.47041696, 0.46802358, 0.4683005 ,\n",
      "       0.46932906, 0.47180157, 0.46965741, 0.46952686, 0.4682016 ]), 'split1_test_score': array([0.45719994, 0.45085054, 0.44721101, 0.44521323, 0.44456049,\n",
      "       0.45903948, 0.45134504, 0.44972308, 0.44823958, 0.44865496,\n",
      "       0.46054276, 0.45352085, 0.45124614, 0.44772529, 0.44916133,\n",
      "       0.46133397, 0.45308569, 0.45286811, 0.44909012, 0.44738112]), 'split2_test_score': array([0.47233958, 0.46860116, 0.4673115 , 0.46341483, 0.46238626,\n",
      "       0.47171058, 0.46732732, 0.46757655, 0.46559063, 0.46648073,\n",
      "       0.47152069, 0.46936466, 0.46904818, 0.46725216, 0.46386977,\n",
      "       0.47140201, 0.46952291, 0.46950313, 0.46856555, 0.47063454]), 'split3_test_score': array([0.46159506, 0.46019068, 0.45900388, 0.45926102, 0.45811377,\n",
      "       0.46363241, 0.46092254, 0.4598742 , 0.4611599 , 0.4619511 ,\n",
      "       0.46282143, 0.45827202, 0.46011156, 0.45736213, 0.45870718,\n",
      "       0.46236648, 0.45845004, 0.45837092, 0.45856872, 0.45785663]), 'split4_test_score': array([0.46534932, 0.45772213, 0.4537859 , 0.45582325, 0.45610017,\n",
      "       0.4669515 , 0.46061002, 0.45361975, 0.45413403, 0.4547749 ,\n",
      "       0.46545613, 0.46204605, 0.45516259, 0.45672522, 0.45164966,\n",
      "       0.46801567, 0.46305483, 0.45720785, 0.45524171, 0.45315294]), 'mean_test_score': array([0.46520848, 0.46132526, 0.45900625, 0.45809004, 0.45721576,\n",
      "       0.46645304, 0.46235778, 0.45976343, 0.45966295, 0.45934805,\n",
      "       0.46566501, 0.46264103, 0.46119709, 0.45941768, 0.45833768,\n",
      "       0.46648944, 0.463183  , 0.46152148, 0.46019859, 0.45944537]), 'std_test_score': array([0.00542197, 0.00692701, 0.0078901 , 0.0074224 , 0.00704652,\n",
      "       0.00470874, 0.00687334, 0.00731902, 0.00760548, 0.00668571,\n",
      "       0.00384795, 0.00635618, 0.00752676, 0.00753163, 0.0071963 ,\n",
      "       0.00395231, 0.00691154, 0.00683102, 0.00784408, 0.00882648]), 'rank_test_score': array([ 4,  9, 17, 19, 20,  2,  7, 12, 13, 16,  3,  6, 10, 15, 18,  1,  5,\n",
      "        8, 11, 14])}\n"
     ]
    }
   ],
   "source": [
    "params_lr = {\"estimator__max_iter\": range(30,55,5),\"estimator__C\":[0.5,0.7,0.9,1.0]}\n",
    "best_params_lr = lr_find_optimal_iter_C(x_train,y_train,params_lr)"
   ]
  },
  {
   "cell_type": "code",
   "execution_count": 41,
   "metadata": {},
   "outputs": [
    {
     "name": "stdout",
     "output_type": "stream",
     "text": [
      "Test accuracy for Logistic Regression is 0.8370989177900133\n",
      "Test hamming loss is 0.1629010822099867\n",
      "Test jaccard score is 0.46037735849056605\n"
     ]
    }
   ],
   "source": [
    "LR=OneVsRestClassifier(LogisticRegression(max_iter=30,n_jobs=-1), n_jobs=-1)\n",
    "# fitting\n",
    "LR.fit(x_train, y_train.action)\n",
    "# compute the testing accuracy for title\n",
    "prediction_LR = LR.predict(x_test)\n",
    "print('Test accuracy for Logistic Regression is {}'.format(accuracy_score(y_test.action, prediction_LR)))\n",
    "print('Test hamming loss is {}'.format(hamming_loss(y_test.action, prediction_LR)))\n",
    "print('Test jaccard score is {}'.format(jaccard_score(y_test.action, prediction_LR)))"
   ]
  },
  {
   "cell_type": "code",
   "execution_count": 40,
   "metadata": {
    "scrolled": true
   },
   "outputs": [
    {
     "name": "stdout",
     "output_type": "stream",
     "text": [
      "Fitting 5 folds for each of 18 candidates, totalling 90 fits\n"
     ]
    },
    {
     "name": "stderr",
     "output_type": "stream",
     "text": [
      "[Parallel(n_jobs=-1)]: Using backend LokyBackend with 12 concurrent workers.\n",
      "[Parallel(n_jobs=-1)]: Done  26 tasks      | elapsed:   44.3s\n",
      "[Parallel(n_jobs=-1)]: Done  90 out of  90 | elapsed:  2.3min finished\n"
     ]
    },
    {
     "name": "stdout",
     "output_type": "stream",
     "text": [
      "Best HyperParameter:  {'estimator__C': 0.9, 'estimator__max_iter': 14}\n",
      "0.47425033626078017\n",
      "{'mean_fit_time': array([10.79083481, 12.6038075 , 15.4448132 , 20.08197556, 21.59715409,\n",
      "       22.08573685, 13.02749672, 13.74131179, 15.26095014, 19.23723693,\n",
      "       23.11630354, 24.84412384, 12.28757834, 12.47388487, 15.35089164,\n",
      "       19.61385007, 21.50452929, 19.19777422]), 'std_fit_time': array([0.31371315, 0.21281008, 1.94617473, 0.48377134, 0.76740262,\n",
      "       1.09422611, 1.62552168, 1.13243627, 0.33252296, 0.99309106,\n",
      "       0.93054178, 0.80103273, 1.61057636, 0.27120055, 0.8253063 ,\n",
      "       0.28507233, 0.38541994, 2.00338824]), 'mean_score_time': array([0.15434175, 0.07383428, 0.11282787, 0.15283546, 0.12242737,\n",
      "       0.12062931, 0.20084906, 0.15603638, 0.13463058, 0.15685501,\n",
      "       0.17684398, 0.12983122, 0.10682507, 0.17504296, 0.15155897,\n",
      "       0.19094868, 0.17604136, 0.05440888]), 'std_score_time': array([0.02718226, 0.00951801, 0.04508634, 0.05948402, 0.05376229,\n",
      "       0.01614659, 0.03278828, 0.049014  , 0.04399452, 0.04937681,\n",
      "       0.04502183, 0.03649843, 0.04055544, 0.03389578, 0.02199079,\n",
      "       0.01934456, 0.06893935, 0.0239746 ]), 'param_estimator__C': masked_array(data=[0.9, 0.9, 0.9, 0.9, 0.9, 0.9, 1.0, 1.0, 1.0, 1.0, 1.0,\n",
      "                   1.0, 1.1, 1.1, 1.1, 1.1, 1.1, 1.1],\n",
      "             mask=[False, False, False, False, False, False, False, False,\n",
      "                   False, False, False, False, False, False, False, False,\n",
      "                   False, False],\n",
      "       fill_value='?',\n",
      "            dtype=object), 'param_estimator__max_iter': masked_array(data=[10, 14, 18, 22, 26, 30, 10, 14, 18, 22, 26, 30, 10, 14,\n",
      "                   18, 22, 26, 30],\n",
      "             mask=[False, False, False, False, False, False, False, False,\n",
      "                   False, False, False, False, False, False, False, False,\n",
      "                   False, False],\n",
      "       fill_value='?',\n",
      "            dtype=object), 'params': [{'estimator__C': 0.9, 'estimator__max_iter': 10}, {'estimator__C': 0.9, 'estimator__max_iter': 14}, {'estimator__C': 0.9, 'estimator__max_iter': 18}, {'estimator__C': 0.9, 'estimator__max_iter': 22}, {'estimator__C': 0.9, 'estimator__max_iter': 26}, {'estimator__C': 0.9, 'estimator__max_iter': 30}, {'estimator__C': 1.0, 'estimator__max_iter': 10}, {'estimator__C': 1.0, 'estimator__max_iter': 14}, {'estimator__C': 1.0, 'estimator__max_iter': 18}, {'estimator__C': 1.0, 'estimator__max_iter': 22}, {'estimator__C': 1.0, 'estimator__max_iter': 26}, {'estimator__C': 1.0, 'estimator__max_iter': 30}, {'estimator__C': 1.1, 'estimator__max_iter': 10}, {'estimator__C': 1.1, 'estimator__max_iter': 14}, {'estimator__C': 1.1, 'estimator__max_iter': 18}, {'estimator__C': 1.1, 'estimator__max_iter': 22}, {'estimator__C': 1.1, 'estimator__max_iter': 26}, {'estimator__C': 1.1, 'estimator__max_iter': 30}], 'split0_test_score': array([0.47336419, 0.477518  , 0.47411583, 0.47269167, 0.47061476,\n",
      "       0.46798402, 0.47336419, 0.47763668, 0.47421473, 0.47281035,\n",
      "       0.47118839, 0.46932906, 0.47336419, 0.47747844, 0.47441253,\n",
      "       0.47237519, 0.47203893, 0.47108948]), 'split1_test_score': array([0.47094311, 0.46619986, 0.46304296, 0.46363636, 0.46276604,\n",
      "       0.46054276, 0.47094311, 0.46604162, 0.46304296, 0.46306274,\n",
      "       0.46307461, 0.46133397, 0.47094311, 0.46608118, 0.4629045 ,\n",
      "       0.46252868, 0.46351768, 0.46131419]), 'split2_test_score': array([0.47836459, 0.47862173, 0.47570219, 0.47553604, 0.47558747,\n",
      "       0.47152069, 0.47836459, 0.47866129, 0.47506923, 0.47501385,\n",
      "       0.47618087, 0.47140201, 0.47836459, 0.47866129, 0.47542527,\n",
      "       0.47533033, 0.47624021, 0.4720864 ]), 'split3_test_score': array([0.47105388, 0.47334441, 0.47504154, 0.46898093, 0.4638579 ,\n",
      "       0.46282143, 0.47105388, 0.47346309, 0.47472506, 0.46890181,\n",
      "       0.4642535 , 0.46236648, 0.47105388, 0.47346309, 0.47533824,\n",
      "       0.46886225, 0.46458976, 0.46236648]), 'split4_test_score': array([0.47566659, 0.47556769, 0.47080465, 0.46959411, 0.46761611,\n",
      "       0.46545613, 0.47566659, 0.47544901, 0.47129915, 0.46923807,\n",
      "       0.46815017, 0.46801567, 0.47566659, 0.47529077, 0.47110135,\n",
      "       0.46911939, 0.46775457, 0.46871984]), 'mean_test_score': array([0.47387847, 0.47425034, 0.47174144, 0.47008782, 0.46808846,\n",
      "       0.46566501, 0.47387847, 0.47425034, 0.47167023, 0.46980536,\n",
      "       0.46856951, 0.46648944, 0.47387847, 0.47419495, 0.47183638,\n",
      "       0.46964317, 0.46882823, 0.46711528]), 'std_test_score': array([0.00283484, 0.00440802, 0.00466384, 0.00398882, 0.00467046,\n",
      "       0.00384795, 0.00283484, 0.00448026, 0.00451502, 0.0040684 ,\n",
      "       0.00477051, 0.00395231, 0.00283484, 0.00443394, 0.00473494,\n",
      "       0.00427335, 0.00474479, 0.00445611]), 'rank_test_score': array([ 4,  1,  8, 10, 15, 18,  4,  2,  9, 11, 14, 17,  4,  3,  7, 12, 13,\n",
      "       16])}\n"
     ]
    }
   ],
   "source": [
    "params_lr = {\"estimator__max_iter\": range(10,31,4),\"estimator__C\":[0.9,1.0,1.1]}\n",
    "best_params_lr = lr_find_optimal_iter_C(x_train,y_train,params_lr)"
   ]
  },
  {
   "cell_type": "code",
   "execution_count": 42,
   "metadata": {},
   "outputs": [
    {
     "name": "stdout",
     "output_type": "stream",
     "text": [
      "Test accuracy for Logistic Regression is 0.8435542054300361\n",
      "Test hamming loss is 0.15644579456996394\n",
      "Test jaccard score is 0.4717948717948718\n"
     ]
    }
   ],
   "source": [
    "LR=OneVsRestClassifier(LogisticRegression(max_iter=14,C=0.9,n_jobs=-1), n_jobs=-1)\n",
    "# fitting\n",
    "LR.fit(x_train, y_train.action)\n",
    "# compute the testing accuracy for title\n",
    "prediction_LR = LR.predict(x_test)\n",
    "print('Test accuracy for Logistic Regression is {}'.format(accuracy_score(y_test.action, prediction_LR)))\n",
    "print('Test hamming loss is {}'.format(hamming_loss(y_test.action, prediction_LR)))\n",
    "print('Test jaccard score is {}'.format(jaccard_score(y_test.action, prediction_LR)))"
   ]
  },
  {
   "cell_type": "code",
   "execution_count": 48,
   "metadata": {
    "scrolled": true
   },
   "outputs": [
    {
     "name": "stdout",
     "output_type": "stream",
     "text": [
      "Fitting 5 folds for each of 18 candidates, totalling 90 fits\n"
     ]
    },
    {
     "name": "stderr",
     "output_type": "stream",
     "text": [
      "[Parallel(n_jobs=-1)]: Using backend LokyBackend with 12 concurrent workers.\n",
      "[Parallel(n_jobs=-1)]: Done  26 tasks      | elapsed:   38.8s\n",
      "[Parallel(n_jobs=-1)]: Done  90 out of  90 | elapsed:  1.8min finished\n"
     ]
    },
    {
     "name": "stdout",
     "output_type": "stream",
     "text": [
      "Best HyperParameter:  {'estimator__C': 0.9, 'estimator__max_iter': 12}\n",
      "0.4761500118680275\n",
      "{'mean_fit_time': array([11.22389145, 12.07196565, 12.59103189, 14.484864  , 15.59611602,\n",
      "       16.33881149, 12.30731945, 12.16377692, 12.7169837 , 13.84400239,\n",
      "       16.25920181, 18.59086065,  9.0995348 , 11.45864334, 13.44876671,\n",
      "       13.03455753, 15.78513989, 15.28683038]), 'std_fit_time': array([0.46271374, 0.4614287 , 1.12800013, 0.85283095, 0.98032738,\n",
      "       0.64444384, 0.7124524 , 1.38412011, 1.02352964, 0.75104017,\n",
      "       1.71389188, 1.21261996, 0.96241649, 1.34864637, 0.93310661,\n",
      "       0.8265542 , 1.54380105, 2.2765006 ]), 'mean_score_time': array([0.16175056, 0.07864075, 0.16687055, 0.14073787, 0.11783843,\n",
      "       0.10994506, 0.14135079, 0.21048183, 0.11804814, 0.1096262 ,\n",
      "       0.15544047, 0.09782429, 0.08723159, 0.12414694, 0.10712895,\n",
      "       0.13623252, 0.13984623, 0.05141473]), 'std_score_time': array([0.05460504, 0.02614031, 0.09341718, 0.02749621, 0.04215447,\n",
      "       0.04102523, 0.05587987, 0.09007845, 0.02692154, 0.06093516,\n",
      "       0.04254128, 0.04620116, 0.01820065, 0.04395503, 0.01731069,\n",
      "       0.04021734, 0.05412747, 0.02224857]), 'param_estimator__C': masked_array(data=[0.8, 0.8, 0.8, 0.8, 0.8, 0.8, 0.9, 0.9, 0.9, 0.9, 0.9,\n",
      "                   0.9, 1.0, 1.0, 1.0, 1.0, 1.0, 1.0],\n",
      "             mask=[False, False, False, False, False, False, False, False,\n",
      "                   False, False, False, False, False, False, False, False,\n",
      "                   False, False],\n",
      "       fill_value='?',\n",
      "            dtype=object), 'param_estimator__max_iter': masked_array(data=[10, 12, 14, 16, 18, 20, 10, 12, 14, 16, 18, 20, 10, 12,\n",
      "                   14, 16, 18, 20],\n",
      "             mask=[False, False, False, False, False, False, False, False,\n",
      "                   False, False, False, False, False, False, False, False,\n",
      "                   False, False],\n",
      "       fill_value='?',\n",
      "            dtype=object), 'params': [{'estimator__C': 0.8, 'estimator__max_iter': 10}, {'estimator__C': 0.8, 'estimator__max_iter': 12}, {'estimator__C': 0.8, 'estimator__max_iter': 14}, {'estimator__C': 0.8, 'estimator__max_iter': 16}, {'estimator__C': 0.8, 'estimator__max_iter': 18}, {'estimator__C': 0.8, 'estimator__max_iter': 20}, {'estimator__C': 0.9, 'estimator__max_iter': 10}, {'estimator__C': 0.9, 'estimator__max_iter': 12}, {'estimator__C': 0.9, 'estimator__max_iter': 14}, {'estimator__C': 0.9, 'estimator__max_iter': 16}, {'estimator__C': 0.9, 'estimator__max_iter': 18}, {'estimator__C': 0.9, 'estimator__max_iter': 20}, {'estimator__C': 1.0, 'estimator__max_iter': 10}, {'estimator__C': 1.0, 'estimator__max_iter': 12}, {'estimator__C': 1.0, 'estimator__max_iter': 14}, {'estimator__C': 1.0, 'estimator__max_iter': 16}, {'estimator__C': 1.0, 'estimator__max_iter': 18}, {'estimator__C': 1.0, 'estimator__max_iter': 20}], 'split0_test_score': array([0.47336419, 0.47429385, 0.477518  , 0.47427407, 0.47328507,\n",
      "       0.47524329, 0.47336419, 0.47464989, 0.477518  , 0.47459055,\n",
      "       0.47411583, 0.47478835, 0.47336419, 0.47464989, 0.47763668,\n",
      "       0.47466967, 0.47421473, 0.47449165]), 'split1_test_score': array([0.47098267, 0.4675449 , 0.46619986, 0.46571327, 0.46237044,\n",
      "       0.46254846, 0.47094311, 0.4675449 , 0.46619986, 0.46563415,\n",
      "       0.46304296, 0.46278582, 0.47094311, 0.4675449 , 0.46604162,\n",
      "       0.46579239, 0.46304296, 0.46298362]), 'split2_test_score': array([0.47836459, 0.48234038, 0.47879975, 0.47710657, 0.47534615,\n",
      "       0.4747844 , 0.47836459, 0.48234038, 0.47862173, 0.47665163,\n",
      "       0.47570219, 0.47589208, 0.47836459, 0.48234038, 0.47866129,\n",
      "       0.47613735, 0.47506923, 0.47595142]), 'split3_test_score': array([0.47105388, 0.47500989, 0.47318617, 0.47456682, 0.47495451,\n",
      "       0.47103806, 0.47105388, 0.47500989, 0.47334441, 0.47432946,\n",
      "       0.47504154, 0.47093916, 0.47105388, 0.47500989, 0.47346309,\n",
      "       0.47397342, 0.47472506, 0.47196772]), 'split4_test_score': array([0.47566659, 0.481205  , 0.47509297, 0.47075322, 0.47072553,\n",
      "       0.47021916, 0.47566659, 0.481205  , 0.47556769, 0.47039718,\n",
      "       0.47080465, 0.46974444, 0.47566659, 0.481205  , 0.47544901,\n",
      "       0.4705752 , 0.47129915, 0.4700807 ]), 'mean_test_score': array([0.47388638, 0.4760788 , 0.47415935, 0.47248279, 0.47133634,\n",
      "       0.47076667, 0.47387847, 0.47615001, 0.47425034, 0.47232059,\n",
      "       0.47174144, 0.47082997, 0.47387847, 0.47615001, 0.47425034,\n",
      "       0.47222961, 0.47167023, 0.47109502]), 'std_test_score': array([0.00282668, 0.00534119, 0.00442687, 0.00394333, 0.00476923,\n",
      "       0.00456278, 0.00283484, 0.00531924, 0.00440802, 0.00390779,\n",
      "       0.00466384, 0.00463017, 0.00283484, 0.00531924, 0.00448026,\n",
      "       0.00369973, 0.00451502, 0.00453226]), 'rank_test_score': array([ 7,  3,  6, 10, 15, 18,  8,  1,  4, 11, 13, 17,  8,  1,  5, 12, 14,\n",
      "       16])}\n"
     ]
    }
   ],
   "source": [
    "params_lr = {\"estimator__max_iter\": range(10,21,2),\"estimator__C\":[0.8,0.9,1.0]}\n",
    "best_params_lr = lr_find_optimal_iter_C(x_train,y_train,params_lr)"
   ]
  },
  {
   "cell_type": "code",
   "execution_count": 49,
   "metadata": {},
   "outputs": [
    {
     "name": "stdout",
     "output_type": "stream",
     "text": [
      "Test accuracy for Logistic Regression is 0.8469717106512246\n",
      "Test hamming loss is 0.15302828934877538\n",
      "Test jaccard score is 0.4762833008447043\n"
     ]
    }
   ],
   "source": [
    "LR=OneVsRestClassifier(LogisticRegression(max_iter=12,C=0.9,n_jobs=-1), n_jobs=-1)\n",
    "# fitting\n",
    "LR.fit(x_train, y_train.action)\n",
    "# compute the testing accuracy for title\n",
    "prediction_LR = LR.predict(x_test)\n",
    "print('Test accuracy for Logistic Regression is {}'.format(accuracy_score(y_test.action, prediction_LR)))\n",
    "print('Test hamming loss is {}'.format(hamming_loss(y_test.action, prediction_LR)))\n",
    "print('Test jaccard score is {}'.format(jaccard_score(y_test.action, prediction_LR)))"
   ]
  },
  {
   "cell_type": "code",
   "execution_count": null,
   "metadata": {},
   "outputs": [],
   "source": []
  }
 ],
 "metadata": {
  "kernelspec": {
   "display_name": "Python 3",
   "language": "python",
   "name": "python3"
  },
  "language_info": {
   "codemirror_mode": {
    "name": "ipython",
    "version": 3
   },
   "file_extension": ".py",
   "mimetype": "text/x-python",
   "name": "python",
   "nbconvert_exporter": "python",
   "pygments_lexer": "ipython3",
   "version": "3.8.3"
  }
 },
 "nbformat": 4,
 "nbformat_minor": 4
}
